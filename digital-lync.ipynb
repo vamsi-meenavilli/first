{
 "cells": [
  {
   "cell_type": "code",
   "execution_count": 1,
   "metadata": {},
   "outputs": [],
   "source": [
    "x=\"python is an easy language\""
   ]
  },
  {
   "cell_type": "code",
   "execution_count": 2,
   "metadata": {},
   "outputs": [
    {
     "data": {
      "text/plain": [
       "True"
      ]
     },
     "execution_count": 2,
     "metadata": {},
     "output_type": "execute_result"
    }
   ],
   "source": [
    "x.startswith(\"p\")"
   ]
  },
  {
   "cell_type": "code",
   "execution_count": 3,
   "metadata": {},
   "outputs": [
    {
     "data": {
      "text/plain": [
       "False"
      ]
     },
     "execution_count": 3,
     "metadata": {},
     "output_type": "execute_result"
    }
   ],
   "source": [
    "x.startswith(\"lan\")"
   ]
  },
  {
   "cell_type": "code",
   "execution_count": 4,
   "metadata": {},
   "outputs": [
    {
     "data": {
      "text/plain": [
       "False"
      ]
     },
     "execution_count": 4,
     "metadata": {},
     "output_type": "execute_result"
    }
   ],
   "source": [
    "x.endswith(\"langu\")"
   ]
  },
  {
   "cell_type": "code",
   "execution_count": 5,
   "metadata": {},
   "outputs": [
    {
     "data": {
      "text/plain": [
       "True"
      ]
     },
     "execution_count": 5,
     "metadata": {},
     "output_type": "execute_result"
    }
   ],
   "source": [
    "x.endswith(\"language\")"
   ]
  },
  {
   "cell_type": "code",
   "execution_count": 6,
   "metadata": {},
   "outputs": [
    {
     "data": {
      "text/plain": [
       "False"
      ]
     },
     "execution_count": 6,
     "metadata": {},
     "output_type": "execute_result"
    }
   ],
   "source": [
    "x.isdigit()"
   ]
  },
  {
   "cell_type": "code",
   "execution_count": 7,
   "metadata": {},
   "outputs": [],
   "source": [
    "y=100"
   ]
  },
  {
   "cell_type": "code",
   "execution_count": 8,
   "metadata": {},
   "outputs": [
    {
     "ename": "AttributeError",
     "evalue": "'int' object has no attribute 'isdigit'",
     "output_type": "error",
     "traceback": [
      "\u001b[1;31m---------------------------------------------------------------------------\u001b[0m",
      "\u001b[1;31mAttributeError\u001b[0m                            Traceback (most recent call last)",
      "\u001b[1;32m<ipython-input-8-b228e4de1f62>\u001b[0m in \u001b[0;36m<module>\u001b[1;34m\u001b[0m\n\u001b[1;32m----> 1\u001b[1;33m \u001b[0my\u001b[0m\u001b[1;33m.\u001b[0m\u001b[0misdigit\u001b[0m\u001b[1;33m(\u001b[0m\u001b[1;33m)\u001b[0m\u001b[1;33m\u001b[0m\u001b[1;33m\u001b[0m\u001b[0m\n\u001b[0m",
      "\u001b[1;31mAttributeError\u001b[0m: 'int' object has no attribute 'isdigit'"
     ]
    }
   ],
   "source": [
    "y.isdigit()"
   ]
  },
  {
   "cell_type": "code",
   "execution_count": 9,
   "metadata": {},
   "outputs": [
    {
     "name": "stdout",
     "output_type": "stream",
     "text": [
      "True\n"
     ]
    }
   ],
   "source": [
    "print(x.endswith(\"language\"))"
   ]
  },
  {
   "cell_type": "code",
   "execution_count": 10,
   "metadata": {},
   "outputs": [
    {
     "ename": "AttributeError",
     "evalue": "'int' object has no attribute 'isdigit'",
     "output_type": "error",
     "traceback": [
      "\u001b[1;31m---------------------------------------------------------------------------\u001b[0m",
      "\u001b[1;31mAttributeError\u001b[0m                            Traceback (most recent call last)",
      "\u001b[1;32m<ipython-input-10-6942f77bdada>\u001b[0m in \u001b[0;36m<module>\u001b[1;34m\u001b[0m\n\u001b[1;32m----> 1\u001b[1;33m \u001b[0mprint\u001b[0m\u001b[1;33m(\u001b[0m\u001b[0mint\u001b[0m\u001b[1;33m(\u001b[0m\u001b[0my\u001b[0m\u001b[1;33m)\u001b[0m\u001b[1;33m.\u001b[0m\u001b[0misdigit\u001b[0m\u001b[1;33m)\u001b[0m\u001b[1;33m\u001b[0m\u001b[1;33m\u001b[0m\u001b[0m\n\u001b[0m",
      "\u001b[1;31mAttributeError\u001b[0m: 'int' object has no attribute 'isdigit'"
     ]
    }
   ],
   "source": [
    "print(int(y).isdigit)"
   ]
  },
  {
   "cell_type": "code",
   "execution_count": 11,
   "metadata": {},
   "outputs": [
    {
     "ename": "SyntaxError",
     "evalue": "invalid syntax (<ipython-input-11-f0db3a259282>, line 1)",
     "output_type": "error",
     "traceback": [
      "\u001b[1;36m  File \u001b[1;32m\"<ipython-input-11-f0db3a259282>\"\u001b[1;36m, line \u001b[1;32m1\u001b[0m\n\u001b[1;33m    int z=100\u001b[0m\n\u001b[1;37m        ^\u001b[0m\n\u001b[1;31mSyntaxError\u001b[0m\u001b[1;31m:\u001b[0m invalid syntax\n"
     ]
    }
   ],
   "source": [
    "int z=100"
   ]
  },
  {
   "cell_type": "code",
   "execution_count": 12,
   "metadata": {},
   "outputs": [],
   "source": [
    "z=int(y)"
   ]
  },
  {
   "cell_type": "code",
   "execution_count": 13,
   "metadata": {},
   "outputs": [
    {
     "name": "stdout",
     "output_type": "stream",
     "text": [
      "100\n"
     ]
    }
   ],
   "source": [
    "print(z)"
   ]
  },
  {
   "cell_type": "code",
   "execution_count": 14,
   "metadata": {},
   "outputs": [
    {
     "ename": "AttributeError",
     "evalue": "'int' object has no attribute 'isdigit'",
     "output_type": "error",
     "traceback": [
      "\u001b[1;31m---------------------------------------------------------------------------\u001b[0m",
      "\u001b[1;31mAttributeError\u001b[0m                            Traceback (most recent call last)",
      "\u001b[1;32m<ipython-input-14-6f9f5f2d0545>\u001b[0m in \u001b[0;36m<module>\u001b[1;34m\u001b[0m\n\u001b[1;32m----> 1\u001b[1;33m \u001b[0mz\u001b[0m\u001b[1;33m.\u001b[0m\u001b[0misdigit\u001b[0m\u001b[1;33m(\u001b[0m\u001b[1;33m)\u001b[0m\u001b[1;33m\u001b[0m\u001b[1;33m\u001b[0m\u001b[0m\n\u001b[0m",
      "\u001b[1;31mAttributeError\u001b[0m: 'int' object has no attribute 'isdigit'"
     ]
    }
   ],
   "source": [
    "z.isdigit()"
   ]
  },
  {
   "cell_type": "code",
   "execution_count": 15,
   "metadata": {},
   "outputs": [],
   "source": [
    "a=\"100\""
   ]
  },
  {
   "cell_type": "code",
   "execution_count": 16,
   "metadata": {},
   "outputs": [
    {
     "data": {
      "text/plain": [
       "True"
      ]
     },
     "execution_count": 16,
     "metadata": {},
     "output_type": "execute_result"
    }
   ],
   "source": [
    "a.isdigit()"
   ]
  },
  {
   "cell_type": "code",
   "execution_count": 17,
   "metadata": {},
   "outputs": [
    {
     "data": {
      "text/plain": [
       "26"
      ]
     },
     "execution_count": 17,
     "metadata": {},
     "output_type": "execute_result"
    }
   ],
   "source": [
    "len(x)"
   ]
  },
  {
   "cell_type": "code",
   "execution_count": 18,
   "metadata": {},
   "outputs": [
    {
     "name": "stdout",
     "output_type": "stream",
     "text": [
      "26\n"
     ]
    }
   ],
   "source": [
    "print(len(x))"
   ]
  },
  {
   "cell_type": "code",
   "execution_count": 19,
   "metadata": {},
   "outputs": [
    {
     "data": {
      "text/plain": [
       "1"
      ]
     },
     "execution_count": 19,
     "metadata": {},
     "output_type": "execute_result"
    }
   ],
   "source": [
    "x.count(\"p\")"
   ]
  },
  {
   "cell_type": "code",
   "execution_count": 20,
   "metadata": {},
   "outputs": [
    {
     "data": {
      "text/plain": [
       "3"
      ]
     },
     "execution_count": 20,
     "metadata": {},
     "output_type": "execute_result"
    }
   ],
   "source": [
    "x.count(\"n\")"
   ]
  },
  {
   "cell_type": "code",
   "execution_count": 21,
   "metadata": {},
   "outputs": [
    {
     "data": {
      "text/plain": [
       "0"
      ]
     },
     "execution_count": 21,
     "metadata": {},
     "output_type": "execute_result"
    }
   ],
   "source": [
    "x.index(\"p\")"
   ]
  },
  {
   "cell_type": "code",
   "execution_count": 22,
   "metadata": {},
   "outputs": [
    {
     "data": {
      "text/plain": [
       "0"
      ]
     },
     "execution_count": 22,
     "metadata": {},
     "output_type": "execute_result"
    }
   ],
   "source": [
    "x.index(\"python\")"
   ]
  },
  {
   "cell_type": "code",
   "execution_count": 23,
   "metadata": {},
   "outputs": [
    {
     "data": {
      "text/plain": [
       "18"
      ]
     },
     "execution_count": 23,
     "metadata": {},
     "output_type": "execute_result"
    }
   ],
   "source": [
    "x.index(\"language\")"
   ]
  },
  {
   "cell_type": "code",
   "execution_count": 24,
   "metadata": {},
   "outputs": [
    {
     "data": {
      "text/plain": [
       "5"
      ]
     },
     "execution_count": 24,
     "metadata": {},
     "output_type": "execute_result"
    }
   ],
   "source": [
    "x.index(\"n\")"
   ]
  },
  {
   "cell_type": "code",
   "execution_count": 25,
   "metadata": {},
   "outputs": [
    {
     "data": {
      "text/plain": [
       "11"
      ]
     },
     "execution_count": 25,
     "metadata": {},
     "output_type": "execute_result"
    }
   ],
   "source": [
    "x.index(\"n\",6)"
   ]
  },
  {
   "cell_type": "code",
   "execution_count": 26,
   "metadata": {
    "collapsed": true
   },
   "outputs": [
    {
     "ename": "ValueError",
     "evalue": "substring not found",
     "output_type": "error",
     "traceback": [
      "\u001b[1;31m---------------------------------------------------------------------------\u001b[0m",
      "\u001b[1;31mValueError\u001b[0m                                Traceback (most recent call last)",
      "\u001b[1;32m<ipython-input-26-37d1ceaefc0a>\u001b[0m in \u001b[0;36m<module>\u001b[1;34m\u001b[0m\n\u001b[1;32m----> 1\u001b[1;33m \u001b[0mx\u001b[0m\u001b[1;33m.\u001b[0m\u001b[0mindex\u001b[0m\u001b[1;33m(\u001b[0m\u001b[1;34m'k'\u001b[0m\u001b[1;33m)\u001b[0m\u001b[1;33m\u001b[0m\u001b[1;33m\u001b[0m\u001b[0m\n\u001b[0m",
      "\u001b[1;31mValueError\u001b[0m: substring not found"
     ]
    }
   ],
   "source": [
    "x.index('k')"
   ]
  },
  {
   "cell_type": "code",
   "execution_count": 27,
   "metadata": {},
   "outputs": [
    {
     "data": {
      "text/plain": [
       "10"
      ]
     },
     "execution_count": 27,
     "metadata": {},
     "output_type": "execute_result"
    }
   ],
   "source": [
    "x.find(\"a\")"
   ]
  },
  {
   "cell_type": "code",
   "execution_count": 28,
   "metadata": {},
   "outputs": [
    {
     "data": {
      "text/plain": [
       "-1"
      ]
     },
     "execution_count": 28,
     "metadata": {},
     "output_type": "execute_result"
    }
   ],
   "source": [
    "x.find(\"k\")"
   ]
  },
  {
   "cell_type": "code",
   "execution_count": 29,
   "metadata": {},
   "outputs": [
    {
     "data": {
      "text/plain": [
       "'pythom is am easy lamguage'"
      ]
     },
     "execution_count": 29,
     "metadata": {},
     "output_type": "execute_result"
    }
   ],
   "source": [
    "x.replace(\"n\",\"m\")"
   ]
  },
  {
   "cell_type": "code",
   "execution_count": 30,
   "metadata": {},
   "outputs": [
    {
     "name": "stdout",
     "output_type": "stream",
     "text": [
      "pythom is am easy lamguage\n"
     ]
    }
   ],
   "source": [
    "print(x.replace(\"n\",\"m\"))"
   ]
  },
  {
   "cell_type": "code",
   "execution_count": 31,
   "metadata": {},
   "outputs": [
    {
     "name": "stdout",
     "output_type": "stream",
     "text": [
      "java is an easy language\n"
     ]
    }
   ],
   "source": [
    "print(x.replace(\"python\",\"java\"))"
   ]
  },
  {
   "cell_type": "code",
   "execution_count": 32,
   "metadata": {},
   "outputs": [
    {
     "data": {
      "text/plain": [
       "['python', 'is', 'an', 'easy', 'language']"
      ]
     },
     "execution_count": 32,
     "metadata": {},
     "output_type": "execute_result"
    }
   ],
   "source": [
    "x.split()"
   ]
  },
  {
   "cell_type": "code",
   "execution_count": 33,
   "metadata": {},
   "outputs": [
    {
     "data": {
      "text/plain": [
       "['pytho', ' is a', ' easy la', 'guage']"
      ]
     },
     "execution_count": 33,
     "metadata": {},
     "output_type": "execute_result"
    }
   ],
   "source": [
    "x.split(\"n\")"
   ]
  },
  {
   "cell_type": "code",
   "execution_count": 34,
   "metadata": {},
   "outputs": [
    {
     "data": {
      "text/plain": [
       "'p y t h o n   i s   a n   e a s y   l a n g u a g e'"
      ]
     },
     "execution_count": 34,
     "metadata": {},
     "output_type": "execute_result"
    }
   ],
   "source": [
    "\" \".join(x)"
   ]
  },
  {
   "cell_type": "code",
   "execution_count": 35,
   "metadata": {},
   "outputs": [
    {
     "data": {
      "text/plain": [
       "'p+y+t+h+o+n+ +i+s+ +a+n+ +e+a+s+y+ +l+a+n+g+u+a+g+e'"
      ]
     },
     "execution_count": 35,
     "metadata": {},
     "output_type": "execute_result"
    }
   ],
   "source": [
    "\"+\".join(x)"
   ]
  },
  {
   "cell_type": "code",
   "execution_count": 36,
   "metadata": {},
   "outputs": [
    {
     "name": "stdout",
     "output_type": "stream",
     "text": [
      "p+y+t+h+o+n+ +i+s+ +a+n+ +e+a+s+y+ +l+a+n+g+u+a+g+e\n"
     ]
    }
   ],
   "source": [
    "print(\"+\".join(x))"
   ]
  },
  {
   "cell_type": "code",
   "execution_count": 37,
   "metadata": {},
   "outputs": [
    {
     "name": "stdout",
     "output_type": "stream",
     "text": [
      "p + y + t + h + o + n +   + i + s +   + a + n +   + e + a + s + y +   + l + a + n + g + u + a + g + e\n"
     ]
    }
   ],
   "source": [
    "print(\" + \".join(x))"
   ]
  },
  {
   "cell_type": "code",
   "execution_count": 38,
   "metadata": {},
   "outputs": [
    {
     "data": {
      "text/plain": [
       "'python is an easy language'"
      ]
     },
     "execution_count": 38,
     "metadata": {},
     "output_type": "execute_result"
    }
   ],
   "source": [
    "\"\".join(x)"
   ]
  },
  {
   "cell_type": "code",
   "execution_count": 39,
   "metadata": {},
   "outputs": [
    {
     "data": {
      "text/plain": [
       "'p+y+t+h+o+n+ +i+s+ +a+n+ +e+a+s+y+ +l+a+n+g+u+a+g+e'"
      ]
     },
     "execution_count": 39,
     "metadata": {},
     "output_type": "execute_result"
    }
   ],
   "source": [
    "\"+\".join(x)"
   ]
  },
  {
   "cell_type": "code",
   "execution_count": 40,
   "metadata": {},
   "outputs": [],
   "source": [
    "y=\"100\""
   ]
  },
  {
   "cell_type": "code",
   "execution_count": 41,
   "metadata": {},
   "outputs": [
    {
     "data": {
      "text/plain": [
       "'0000000100'"
      ]
     },
     "execution_count": 41,
     "metadata": {},
     "output_type": "execute_result"
    }
   ],
   "source": [
    "y.zfill(10)"
   ]
  },
  {
   "cell_type": "code",
   "execution_count": 42,
   "metadata": {},
   "outputs": [],
   "source": [
    "z=100"
   ]
  },
  {
   "cell_type": "code",
   "execution_count": 43,
   "metadata": {},
   "outputs": [
    {
     "data": {
      "text/plain": [
       "'0000000100'"
      ]
     },
     "execution_count": 43,
     "metadata": {},
     "output_type": "execute_result"
    }
   ],
   "source": [
    "str(z).zfill(10)"
   ]
  },
  {
   "cell_type": "code",
   "execution_count": 44,
   "metadata": {},
   "outputs": [
    {
     "ename": "AttributeError",
     "evalue": "'int' object has no attribute 'zfill'",
     "output_type": "error",
     "traceback": [
      "\u001b[1;31m---------------------------------------------------------------------------\u001b[0m",
      "\u001b[1;31mAttributeError\u001b[0m                            Traceback (most recent call last)",
      "\u001b[1;32m<ipython-input-44-c49f7c06c44a>\u001b[0m in \u001b[0;36m<module>\u001b[1;34m\u001b[0m\n\u001b[1;32m----> 1\u001b[1;33m \u001b[0mz\u001b[0m\u001b[1;33m.\u001b[0m\u001b[0mzfill\u001b[0m\u001b[1;33m(\u001b[0m\u001b[1;36m10\u001b[0m\u001b[1;33m)\u001b[0m\u001b[1;33m\u001b[0m\u001b[1;33m\u001b[0m\u001b[0m\n\u001b[0m",
      "\u001b[1;31mAttributeError\u001b[0m: 'int' object has no attribute 'zfill'"
     ]
    }
   ],
   "source": [
    "z.zfill(10)"
   ]
  },
  {
   "cell_type": "code",
   "execution_count": 47,
   "metadata": {},
   "outputs": [
    {
     "name": "stdout",
     "output_type": "stream",
     "text": [
      "entar a statement:python is an easy language\n",
      "enter old value:python\n",
      "enter new value:java\n",
      "python is an easy language\n"
     ]
    }
   ],
   "source": [
    "x=input(\"entar a statement:\")\n",
    "y1=input(\"enter old value:\")\n",
    "z1=input(\"enter new value:\")\n",
    "print(x.replace(y1,\"z1))"
   ]
  },
  {
   "cell_type": "code",
   "execution_count": 48,
   "metadata": {},
   "outputs": [
    {
     "name": "stdout",
     "output_type": "stream",
     "text": [
      "python\n"
     ]
    }
   ],
   "source": [
    "print(y1)"
   ]
  },
  {
   "cell_type": "code",
   "execution_count": 49,
   "metadata": {},
   "outputs": [
    {
     "data": {
      "text/plain": [
       "'java'"
      ]
     },
     "execution_count": 49,
     "metadata": {},
     "output_type": "execute_result"
    }
   ],
   "source": [
    "y1.replace(\"python\",\"java\")"
   ]
  },
  {
   "cell_type": "code",
   "execution_count": 50,
   "metadata": {},
   "outputs": [],
   "source": [
    "y1=z"
   ]
  },
  {
   "cell_type": "code",
   "execution_count": 51,
   "metadata": {},
   "outputs": [
    {
     "ename": "NameError",
     "evalue": "name 'w' is not defined",
     "output_type": "error",
     "traceback": [
      "\u001b[1;31m---------------------------------------------------------------------------\u001b[0m",
      "\u001b[1;31mNameError\u001b[0m                                 Traceback (most recent call last)",
      "\u001b[1;32m<ipython-input-51-9e58a953193a>\u001b[0m in \u001b[0;36m<module>\u001b[1;34m\u001b[0m\n\u001b[1;32m----> 1\u001b[1;33m \u001b[0mz1\u001b[0m\u001b[1;33m=\u001b[0m\u001b[0mw\u001b[0m\u001b[1;33m\u001b[0m\u001b[1;33m\u001b[0m\u001b[0m\n\u001b[0m",
      "\u001b[1;31mNameError\u001b[0m: name 'w' is not defined"
     ]
    }
   ],
   "source": [
    "z1=w"
   ]
  },
  {
   "cell_type": "code",
   "execution_count": 52,
   "metadata": {},
   "outputs": [],
   "source": [
    "w=z1"
   ]
  },
  {
   "cell_type": "code",
   "execution_count": 53,
   "metadata": {},
   "outputs": [
    {
     "ename": "NameError",
     "evalue": "name 'jav' is not defined",
     "output_type": "error",
     "traceback": [
      "\u001b[1;31m---------------------------------------------------------------------------\u001b[0m",
      "\u001b[1;31mNameError\u001b[0m                                 Traceback (most recent call last)",
      "\u001b[1;32m<ipython-input-53-4e4eb5b13f20>\u001b[0m in \u001b[0;36m<module>\u001b[1;34m\u001b[0m\n\u001b[1;32m----> 1\u001b[1;33m \u001b[0mz\u001b[0m\u001b[1;33m=\u001b[0m\u001b[0mjav\u001b[0m\u001b[1;33m\u001b[0m\u001b[1;33m\u001b[0m\u001b[0m\n\u001b[0m",
      "\u001b[1;31mNameError\u001b[0m: name 'jav' is not defined"
     ]
    }
   ],
   "source": [
    "z=jav"
   ]
  },
  {
   "cell_type": "code",
   "execution_count": 54,
   "metadata": {},
   "outputs": [],
   "source": [
    "z=\"java\""
   ]
  },
  {
   "cell_type": "code",
   "execution_count": 55,
   "metadata": {},
   "outputs": [
    {
     "name": "stdout",
     "output_type": "stream",
     "text": [
      "python is an easy language\n"
     ]
    }
   ],
   "source": [
    "print(x.replace(\"w\",\"z\"))"
   ]
  },
  {
   "cell_type": "code",
   "execution_count": 56,
   "metadata": {},
   "outputs": [
    {
     "name": "stdout",
     "output_type": "stream",
     "text": [
      "enter a string:python is an easy language\n",
      "old value:python\n",
      "new value:java\n",
      "java is an easy language\n"
     ]
    }
   ],
   "source": [
    "stmt=input(\"enter a string:\")\n",
    "old=input(\"old value:\")\n",
    "new=input(\"new value:\")\n",
    "print(stmt.replace(old,new))"
   ]
  },
  {
   "cell_type": "raw",
   "metadata": {},
   "source": [
    "x=input(\"enter a number:\")\n",
    "y=input(\"enter length:\")\n",
    "print(x.zfill(int(y)))"
   ]
  },
  {
   "cell_type": "code",
   "execution_count": 58,
   "metadata": {},
   "outputs": [
    {
     "data": {
      "text/plain": [
       "'100'"
      ]
     },
     "execution_count": 58,
     "metadata": {},
     "output_type": "execute_result"
    }
   ],
   "source": [
    "x.strip()"
   ]
  },
  {
   "cell_type": "code",
   "execution_count": 59,
   "metadata": {},
   "outputs": [
    {
     "name": "stdout",
     "output_type": "stream",
     "text": [
      "100\n"
     ]
    }
   ],
   "source": [
    "print(x.strip())"
   ]
  },
  {
   "cell_type": "code",
   "execution_count": 60,
   "metadata": {},
   "outputs": [
    {
     "data": {
      "text/plain": [
       "'python is an easy language'"
      ]
     },
     "execution_count": 60,
     "metadata": {},
     "output_type": "execute_result"
    }
   ],
   "source": [
    "stmt.strip()"
   ]
  },
  {
   "cell_type": "code",
   "execution_count": 61,
   "metadata": {},
   "outputs": [],
   "source": [
    "x=\"             python is an easy language      \""
   ]
  },
  {
   "cell_type": "code",
   "execution_count": 62,
   "metadata": {},
   "outputs": [
    {
     "data": {
      "text/plain": [
       "'python is an easy language'"
      ]
     },
     "execution_count": 62,
     "metadata": {},
     "output_type": "execute_result"
    }
   ],
   "source": [
    "x.strip()"
   ]
  },
  {
   "cell_type": "code",
   "execution_count": 63,
   "metadata": {},
   "outputs": [
    {
     "data": {
      "text/plain": [
       "'python is an easy language      '"
      ]
     },
     "execution_count": 63,
     "metadata": {},
     "output_type": "execute_result"
    }
   ],
   "source": [
    "x.lstrip()"
   ]
  },
  {
   "cell_type": "code",
   "execution_count": 64,
   "metadata": {},
   "outputs": [
    {
     "data": {
      "text/plain": [
       "'             python is an easy language'"
      ]
     },
     "execution_count": 64,
     "metadata": {},
     "output_type": "execute_result"
    }
   ],
   "source": [
    "x.rstrip()"
   ]
  },
  {
   "cell_type": "code",
   "execution_count": 1,
   "metadata": {},
   "outputs": [
    {
     "ename": "NameError",
     "evalue": "name 'x' is not defined",
     "output_type": "error",
     "traceback": [
      "\u001b[1;31m---------------------------------------------------------------------------\u001b[0m",
      "\u001b[1;31mNameError\u001b[0m                                 Traceback (most recent call last)",
      "\u001b[1;32m<ipython-input-1-8fa2020b5dde>\u001b[0m in \u001b[0;36m<module>\u001b[1;34m\u001b[0m\n\u001b[1;32m----> 1\u001b[1;33m \u001b[0mprint\u001b[0m\u001b[1;33m(\u001b[0m\u001b[0mx\u001b[0m\u001b[1;33m.\u001b[0m\u001b[0mstrip\u001b[0m\u001b[1;33m(\u001b[0m\u001b[1;34m\" ge\"\u001b[0m\u001b[1;33m)\u001b[0m\u001b[1;33m)\u001b[0m\u001b[1;33m\u001b[0m\u001b[1;33m\u001b[0m\u001b[0m\n\u001b[0m",
      "\u001b[1;31mNameError\u001b[0m: name 'x' is not defined"
     ]
    }
   ],
   "source": [
    "print(x.strip(\" ge\"))"
   ]
  },
  {
   "cell_type": "code",
   "execution_count": 2,
   "metadata": {},
   "outputs": [
    {
     "ename": "NameError",
     "evalue": "name 'x' is not defined",
     "output_type": "error",
     "traceback": [
      "\u001b[1;31m---------------------------------------------------------------------------\u001b[0m",
      "\u001b[1;31mNameError\u001b[0m                                 Traceback (most recent call last)",
      "\u001b[1;32m<ipython-input-2-fc17d851ef81>\u001b[0m in \u001b[0;36m<module>\u001b[1;34m\u001b[0m\n\u001b[1;32m----> 1\u001b[1;33m \u001b[0mprint\u001b[0m\u001b[1;33m(\u001b[0m\u001b[0mx\u001b[0m\u001b[1;33m)\u001b[0m\u001b[1;33m\u001b[0m\u001b[1;33m\u001b[0m\u001b[0m\n\u001b[0m",
      "\u001b[1;31mNameError\u001b[0m: name 'x' is not defined"
     ]
    }
   ],
   "source": [
    "print(x)"
   ]
  },
  {
   "cell_type": "code",
   "execution_count": 3,
   "metadata": {},
   "outputs": [],
   "source": [
    "x=\"      python is an easy language      \""
   ]
  },
  {
   "cell_type": "code",
   "execution_count": 4,
   "metadata": {},
   "outputs": [
    {
     "data": {
      "text/plain": [
       "'python is an easy langua'"
      ]
     },
     "execution_count": 4,
     "metadata": {},
     "output_type": "execute_result"
    }
   ],
   "source": [
    "x.strip(\"ge  \")"
   ]
  },
  {
   "cell_type": "code",
   "execution_count": 5,
   "metadata": {},
   "outputs": [
    {
     "name": "stdout",
     "output_type": "stream",
     "text": [
      "python is an easy langua\n"
     ]
    }
   ],
   "source": [
    "print(x.strip(\"ge   \"))"
   ]
  },
  {
   "cell_type": "code",
   "execution_count": 8,
   "metadata": {},
   "outputs": [
    {
     "name": "stdout",
     "output_type": "stream",
     "text": [
      "a is gt 5\n"
     ]
    }
   ],
   "source": [
    "a=10\n",
    "if a>5:\n",
    "    print(\"a is gt 5\")\n",
    "else:\n",
    "    print(\"a is lt 5\")"
   ]
  },
  {
   "cell_type": "code",
   "execution_count": 19,
   "metadata": {},
   "outputs": [
    {
     "name": "stdout",
     "output_type": "stream",
     "text": [
      "enter a nmber:kjbohchpieh\n",
      "enter a nuber not a string\n"
     ]
    }
   ],
   "source": [
    "x=input(\"enter a nmber:\")\n",
    "if x.isdigit()==True:\n",
    "    x=int(x)\n",
    "    if x%2==0:\n",
    "        print(\"%d is even\"%(x))\n",
    "    else:\n",
    "        print(\"%d is odd\"%(x))\n",
    "else:\n",
    "    print(\"enter a nuber not a string\")"
   ]
  },
  {
   "cell_type": "code",
   "execution_count": 22,
   "metadata": {},
   "outputs": [
    {
     "name": "stdout",
     "output_type": "stream",
     "text": [
      "enter anumber:wuhcowb2\n",
      "enter only a number:\n"
     ]
    }
   ],
   "source": [
    "x=input(\"enter anumber:\")\n",
    "if x.isdigit()==True:\n",
    "    x=int(x)\n",
    "    if x%3==0 and x%5==0:\n",
    "        print(\"%d is a multiple of 3 and 5\"%(x))\n",
    "    elif x%3==0:\n",
    "        print(\"%d is a multiple of 3 only\"%(x))\n",
    "    elif x%5==0:\n",
    "        print(\"%d is a multiple of 5 only\"%(x))\n",
    "    else:\n",
    "        print(\"%d is neither a multiple of 3 nor 5\"%(x))\n",
    "else:\n",
    "    print(\"enter only a number:\")\n",
    "    "
   ]
  },
  {
   "cell_type": "code",
   "execution_count": 29,
   "metadata": {},
   "outputs": [
    {
     "name": "stdout",
     "output_type": "stream",
     "text": [
      "enter statement:injsbovij\n",
      "enter character/string:j\n",
      "j is in statement\n",
      "j count is 2\n",
      "j first index is 2\n"
     ]
    }
   ],
   "source": [
    "x=input(\"enter statement:\")\n",
    "y=input(\"enter character/string:\")\n",
    "if x.find(y)>=0:\n",
    "    print(\"%s is in statement\"%(y))\n",
    "    print(\"%s count is %d\"%(y,x.count(y)))\n",
    "    print(\"%s first index is %d\"%(y,x.index(y)))\n",
    "else:\n",
    "    print(\"%s is not in statement\"%(y))\n",
    "    "
   ]
  },
  {
   "cell_type": "code",
   "execution_count": 1,
   "metadata": {},
   "outputs": [
    {
     "data": {
      "text/plain": [
       "range(0, 10)"
      ]
     },
     "execution_count": 1,
     "metadata": {},
     "output_type": "execute_result"
    }
   ],
   "source": [
    "range(10)"
   ]
  },
  {
   "cell_type": "code",
   "execution_count": 2,
   "metadata": {},
   "outputs": [
    {
     "ename": "SyntaxError",
     "evalue": "invalid syntax (<ipython-input-2-e892279a8a93>, line 1)",
     "output_type": "error",
     "traceback": [
      "\u001b[1;36m  File \u001b[1;32m\"<ipython-input-2-e892279a8a93>\"\u001b[1;36m, line \u001b[1;32m1\u001b[0m\n\u001b[1;33m    type range()\u001b[0m\n\u001b[1;37m             ^\u001b[0m\n\u001b[1;31mSyntaxError\u001b[0m\u001b[1;31m:\u001b[0m invalid syntax\n"
     ]
    }
   ],
   "source": [
    "type range()"
   ]
  },
  {
   "cell_type": "code",
   "execution_count": 3,
   "metadata": {},
   "outputs": [
    {
     "ename": "TypeError",
     "evalue": "range expected 1 arguments, got 0",
     "output_type": "error",
     "traceback": [
      "\u001b[1;31m---------------------------------------------------------------------------\u001b[0m",
      "\u001b[1;31mTypeError\u001b[0m                                 Traceback (most recent call last)",
      "\u001b[1;32m<ipython-input-3-176483e61df9>\u001b[0m in \u001b[0;36m<module>\u001b[1;34m\u001b[0m\n\u001b[1;32m----> 1\u001b[1;33m \u001b[0mtype\u001b[0m\u001b[1;33m(\u001b[0m\u001b[0mrange\u001b[0m\u001b[1;33m(\u001b[0m\u001b[1;33m)\u001b[0m\u001b[1;33m)\u001b[0m\u001b[1;33m\u001b[0m\u001b[1;33m\u001b[0m\u001b[0m\n\u001b[0m",
      "\u001b[1;31mTypeError\u001b[0m: range expected 1 arguments, got 0"
     ]
    }
   ],
   "source": [
    "type(range())"
   ]
  },
  {
   "cell_type": "code",
   "execution_count": 4,
   "metadata": {},
   "outputs": [
    {
     "data": {
      "text/plain": [
       "range"
      ]
     },
     "execution_count": 4,
     "metadata": {},
     "output_type": "execute_result"
    }
   ],
   "source": [
    "type(range(5))"
   ]
  },
  {
   "cell_type": "code",
   "execution_count": 5,
   "metadata": {},
   "outputs": [
    {
     "name": "stdout",
     "output_type": "stream",
     "text": [
      "range(0, 5)\n"
     ]
    }
   ],
   "source": [
    "print(range(5))"
   ]
  },
  {
   "cell_type": "code",
   "execution_count": 10,
   "metadata": {},
   "outputs": [
    {
     "name": "stdout",
     "output_type": "stream",
     "text": [
      "5\n",
      "8\n"
     ]
    }
   ],
   "source": [
    "for i in range(5,10,3):\n",
    "    print(i)"
   ]
  },
  {
   "cell_type": "code",
   "execution_count": 16,
   "metadata": {},
   "outputs": [
    {
     "name": "stdout",
     "output_type": "stream",
     "text": [
      "*\n",
      "**\n",
      "***\n",
      "****\n",
      "*****\n"
     ]
    }
   ],
   "source": [
    "for i in range(1,6):\n",
    "    print(\"*\"*i)"
   ]
  },
  {
   "cell_type": "code",
   "execution_count": 18,
   "metadata": {},
   "outputs": [
    {
     "name": "stdout",
     "output_type": "stream",
     "text": [
      "*\n",
      "**\n",
      "***\n",
      "****\n",
      "*****\n",
      "******\n",
      "*******\n",
      "********\n",
      "*********\n",
      "**********\n"
     ]
    }
   ],
   "source": [
    "n=10\n",
    "for i in range(1,n+1):\n",
    "    print(\"*\"*i)"
   ]
  },
  {
   "cell_type": "code",
   "execution_count": 19,
   "metadata": {},
   "outputs": [
    {
     "name": "stdout",
     "output_type": "stream",
     "text": [
      "1\n",
      "22\n",
      "333\n",
      "4444\n",
      "55555\n"
     ]
    }
   ],
   "source": [
    "n=5\n",
    "for i in range(1,n+1):\n",
    "    print(str(i)*i)"
   ]
  },
  {
   "cell_type": "code",
   "execution_count": 24,
   "metadata": {},
   "outputs": [
    {
     "name": "stdout",
     "output_type": "stream",
     "text": [
      "a\n",
      "bb\n",
      "ccc\n",
      "dddd\n",
      "eeeee\n"
     ]
    }
   ],
   "source": [
    "n=5\n",
    "x=\"abcdefghijklmnopqrstuvwxyz\"\n",
    "for i in range(0,n):\n",
    "    print(x[i]*(i+1))"
   ]
  },
  {
   "cell_type": "code",
   "execution_count": 27,
   "metadata": {},
   "outputs": [
    {
     "name": "stdout",
     "output_type": "stream",
     "text": [
      "a\n",
      "bb\n",
      "ccc\n",
      "dddd\n",
      "eeeee\n"
     ]
    }
   ],
   "source": [
    "n=5\n",
    "for i in range(ord(\"a\"),ord(\"a\")+n):\n",
    "    print(chr(i)*(i-ord(\"a\")+1))"
   ]
  },
  {
   "cell_type": "code",
   "execution_count": 46,
   "metadata": {},
   "outputs": [
    {
     "name": "stdout",
     "output_type": "stream",
     "text": [
      "enter a number:20\n",
      "1\n",
      "2\n",
      "4\n",
      "5\n",
      "10\n",
      "20\n",
      "composite number\n"
     ]
    }
   ],
   "source": [
    "x=int(input(\"enter a number:\"))\n",
    "y=0\n",
    "z=0\n",
    "for i in range(1,x+1):\n",
    "    if x%i==0:\n",
    "        print(i)\n",
    "        y+=1\n",
    "if y>2:\n",
    "    print(\"composite number\")\n",
    "else:\n",
    "    print(\"prime number\")"
   ]
  },
  {
   "cell_type": "code",
   "execution_count": 48,
   "metadata": {},
   "outputs": [
    {
     "name": "stdout",
     "output_type": "stream",
     "text": [
      "*****\n",
      "****\n",
      "***\n",
      "**\n",
      "*\n"
     ]
    }
   ],
   "source": [
    "for i in range(5,1-1,-1):\n",
    "    print(\"*\"*i)"
   ]
  },
  {
   "cell_type": "code",
   "execution_count": 100,
   "metadata": {},
   "outputs": [
    {
     "name": "stdout",
     "output_type": "stream",
     "text": [
      "    *\n",
      "   **\n",
      "  ***\n",
      " ****\n",
      "*****\n"
     ]
    }
   ],
   "source": [
    "j=1\n",
    "for i in range(5,0,-1):\n",
    "    print((\" \"*(i-1))+(\"*\"*(j)))\n",
    "    j=j+1\n"
   ]
  },
  {
   "cell_type": "code",
   "execution_count": 124,
   "metadata": {},
   "outputs": [
    {
     "name": "stdout",
     "output_type": "stream",
     "text": [
      "000  000  000\n",
      "001  001  001\n",
      "002  004  008\n",
      "003  009  027\n",
      "004  016  064\n",
      "005  025  125\n"
     ]
    }
   ],
   "source": [
    "for i in range(0,6):\n",
    "    j=i*i\n",
    "    k=i*i*i\n",
    "    if len(str(i))==1:\n",
    "        i=\"0\"+\"0\"+str(i)\n",
    "    if len(str(j))==1:\n",
    "        j=\"0\"+\"0\"+str(j)\n",
    "    if len(str(j))==2:\n",
    "        j=\"0\"+str(j)\n",
    "    if len(str(k))==1:\n",
    "        k=\"0\"+\"0\"+str(k)\n",
    "    if len(str(k))==2:\n",
    "        k=\"0\"+str(k)\n",
    "    print(str(i)+\"  \"+str(j)+\"  \"+str(k))"
   ]
  },
  {
   "cell_type": "code",
   "execution_count": 1,
   "metadata": {},
   "outputs": [
    {
     "data": {
      "text/plain": [
       "['False',\n",
       " 'None',\n",
       " 'True',\n",
       " 'and',\n",
       " 'as',\n",
       " 'assert',\n",
       " 'async',\n",
       " 'await',\n",
       " 'break',\n",
       " 'class',\n",
       " 'continue',\n",
       " 'def',\n",
       " 'del',\n",
       " 'elif',\n",
       " 'else',\n",
       " 'except',\n",
       " 'finally',\n",
       " 'for',\n",
       " 'from',\n",
       " 'global',\n",
       " 'if',\n",
       " 'import',\n",
       " 'in',\n",
       " 'is',\n",
       " 'lambda',\n",
       " 'nonlocal',\n",
       " 'not',\n",
       " 'or',\n",
       " 'pass',\n",
       " 'raise',\n",
       " 'return',\n",
       " 'try',\n",
       " 'while',\n",
       " 'with',\n",
       " 'yield']"
      ]
     },
     "execution_count": 1,
     "metadata": {},
     "output_type": "execute_result"
    }
   ],
   "source": [
    "import keyword\n",
    "keyword.kwlist"
   ]
  },
  {
   "cell_type": "code",
   "execution_count": 1,
   "metadata": {},
   "outputs": [
    {
     "name": "stdout",
     "output_type": "stream",
     "text": [
      "enter a number:10\n",
      "10*1=10\n",
      "10*2=20\n",
      "10*3=30\n",
      "10*4=40\n",
      "10*5=50\n",
      "10*6=60\n",
      "10*7=70\n",
      "10*8=80\n",
      "10*9=90\n",
      "10*10=100\n"
     ]
    }
   ],
   "source": [
    "n=int(input(\"enter a number:\"))\n",
    "for i in range(1,11):\n",
    "    print(\"%d*%d=%d\"%(n,i,n*i))"
   ]
  },
  {
   "cell_type": "code",
   "execution_count": 14,
   "metadata": {},
   "outputs": [
    {
     "name": "stdout",
     "output_type": "stream",
     "text": [
      "enter a nmber for pattern:10\n",
      "\n",
      "12345678910\n",
      "123456789\n",
      "12345678\n",
      "1234567\n",
      "123456\n",
      "12345\n",
      "1234\n",
      "123\n",
      "12\n",
      "1\n"
     ]
    }
   ],
   "source": [
    "x=int(input(\"enter a nmber for pattern:\"))\n",
    "print()\n",
    "for j in range (x+1,1,-1):\n",
    "    for i in range(1,j):\n",
    "        print(i,end=\"\")\n",
    "    print()\n",
    "\n",
    "\n"
   ]
  },
  {
   "cell_type": "code",
   "execution_count": 28,
   "metadata": {},
   "outputs": [
    {
     "name": "stdout",
     "output_type": "stream",
     "text": [
      "enter a number for patterns:5\n"
     ]
    }
   ],
   "source": [
    "x=int(input(\"enter a number for patterns:\"))\n",
    "a=ord('a')\n",
    "\n",
    "for i in range(a,x+1):\n",
    "    print(\"chr(i)\",end=\"\")"
   ]
  },
  {
   "cell_type": "code",
   "execution_count": 29,
   "metadata": {},
   "outputs": [
    {
     "name": "stdout",
     "output_type": "stream",
     "text": [
      "enter length for the pattern:10\n",
      "enter a from character for pattern:d\n",
      "defghijklm\n",
      "defghijkl\n",
      "defghijk\n",
      "defghij\n",
      "defghi\n",
      "defgh\n",
      "defg\n",
      "def\n",
      "de\n",
      "d\n"
     ]
    }
   ],
   "source": [
    "x=int(input(\"enter length for the pattern:\"))\n",
    "y=ord(input(\"enter a from character for pattern:\"))\n",
    "for j in range(x+1,1,-1):\n",
    "    for i in range(y,y+(j-1)):\n",
    "        print(chr(i),end=\"\")\n",
    "    print()    "
   ]
  },
  {
   "cell_type": "code",
   "execution_count": 14,
   "metadata": {},
   "outputs": [
    {
     "name": "stdout",
     "output_type": "stream",
     "text": [
      "enter the start number:1\n",
      "enter the end number:5\n",
      "prime number 1\n",
      "prime number 2\n",
      "3\n",
      "prime number 3\n",
      "4\n",
      "4\n",
      "prime number 4\n",
      "5\n",
      "5\n",
      "5\n",
      "composite nuber_ 5\n"
     ]
    }
   ],
   "source": [
    "x=int(input(\"enter the start number:\"))\n",
    "y=int(input(\"enter the end number:\"))\n",
    "for i in range((x),(y+1)):\n",
    "    count=0\n",
    "    for j in range(2,i):\n",
    "        i%j==0\n",
    "        count=count+1\n",
    "        print(i)\n",
    "    if count>2:\n",
    "        print(\"composite nuber_\",(i))\n",
    "    else:\n",
    "        print(\"prime number\",(i))"
   ]
  },
  {
   "cell_type": "code",
   "execution_count": 28,
   "metadata": {},
   "outputs": [
    {
     "name": "stdout",
     "output_type": "stream",
     "text": [
      "enter the start number:2\n",
      "enter the end number:10\n"
     ]
    }
   ],
   "source": [
    "x=int(input(\"enter the start number:\"))\n",
    "y=int(input(\"enter the end number:\"))\n",
    "z=0\n",
    "for j in range(x,y+1):\n",
    "    for i in range(2,j+1):\n",
    "        j%i==0\n",
    "        z=z+1\n",
    "if z==2:\n",
    "        print((x),\" is a prime number\")"
   ]
  },
  {
   "cell_type": "code",
   "execution_count": 26,
   "metadata": {},
   "outputs": [
    {
     "name": "stdout",
     "output_type": "stream",
     "text": [
      "2\n"
     ]
    }
   ],
   "source": [
    "a=5\n",
    "b=3\n",
    "print(a%b)"
   ]
  },
  {
   "cell_type": "code",
   "execution_count": 55,
   "metadata": {},
   "outputs": [
    {
     "name": "stdout",
     "output_type": "stream",
     "text": [
      "enter a number:5\n",
      "edcba\n",
      "dcba\n",
      "cba\n",
      "ba\n",
      "a\n"
     ]
    }
   ],
   "source": [
    "x=int(input(\"enter a number:\"))\n",
    "for j in range(1,x+1):\n",
    "    for i in range(ord('a')+x-j,ord('a')-1,-1):\n",
    "        print(chr(i),end=\"\")\n",
    "    print()    "
   ]
  },
  {
   "cell_type": "code",
   "execution_count": 109,
   "metadata": {},
   "outputs": [
    {
     "name": "stdout",
     "output_type": "stream",
     "text": [
      "1 2 are the factors of the prime number 2\n",
      "are the factors of the prime number 3\n",
      "are the factors of the prime number 4\n",
      "5 are the factors of the composite number 5\n"
     ]
    }
   ],
   "source": [
    "x=5\n",
    "\n",
    "\n",
    "z=0\n",
    "print(\"1\",end=\" \")\n",
    "for i in range(2,x+1):\n",
    "    if n%i==0:\n",
    "        print(i,end=\" \")\n",
    "        z=z+1\n",
    "    if z>1:\n",
    "        print(\"are the factors of the composite number\",(i))\n",
    "    else:\n",
    "        print(\"are the factors of the prime number\",(i))\n"
   ]
  },
  {
   "cell_type": "code",
   "execution_count": null,
   "metadata": {},
   "outputs": [],
   "source": [
    "x=int(input(\"enter start number:\"))\n",
    "y=int(input(\"enter end number:\"))\n",
    "for j in range(x,y+1):"
   ]
  },
  {
   "cell_type": "code",
   "execution_count": 4,
   "metadata": {},
   "outputs": [
    {
     "name": "stdout",
     "output_type": "stream",
     "text": [
      "enter a string:python\n",
      "python"
     ]
    }
   ],
   "source": [
    "x=input(\"enter a string:\")\n",
    "for i in range(len(x)):\n",
    "    print(x[i],end=\"\")"
   ]
  },
  {
   "cell_type": "code",
   "execution_count": 5,
   "metadata": {},
   "outputs": [
    {
     "name": "stdout",
     "output_type": "stream",
     "text": [
      "enter a string:python\n",
      "python"
     ]
    }
   ],
   "source": [
    "x=input(\"enter a string:\")\n",
    "for i in x:\n",
    "    print(i,end=\"\")"
   ]
  },
  {
   "cell_type": "code",
   "execution_count": 10,
   "metadata": {},
   "outputs": [
    {
     "name": "stdout",
     "output_type": "stream",
     "text": [
      "enter a string:python IS AN EASY language\n",
      "oIAEAauae"
     ]
    }
   ],
   "source": [
    "x=input(\"enter a string:\")\n",
    "y=\"aeiou\"\n",
    "for i in x:\n",
    "    if i.lower() in y:\n",
    "        print(i,end=\"\")"
   ]
  },
  {
   "cell_type": "code",
   "execution_count": 11,
   "metadata": {},
   "outputs": [
    {
     "name": "stdout",
     "output_type": "stream",
     "text": [
      "enter a string:python is an easy language\n",
      "enter the start character:l\n",
      "pytonsnsynu"
     ]
    }
   ],
   "source": [
    "x=input(\"enter a string:\")\n",
    "y=input(\"enter the start character:\")\n",
    "for i in x:\n",
    "    if ord(i)>ord(y):\n",
    "        print(i,end=\"\")"
   ]
  },
  {
   "cell_type": "code",
   "execution_count": 13,
   "metadata": {},
   "outputs": [
    {
     "name": "stdout",
     "output_type": "stream",
     "text": [
      "97\n"
     ]
    }
   ],
   "source": [
    "print(ord('a'))"
   ]
  },
  {
   "cell_type": "code",
   "execution_count": 14,
   "metadata": {},
   "outputs": [
    {
     "name": "stdout",
     "output_type": "stream",
     "text": [
      "enter a string:python is an easy language\n",
      "enter the start character:l\n",
      "hiaeaagage"
     ]
    }
   ],
   "source": [
    "x=input(\"enter a string:\")\n",
    "y=input(\"enter the start character:\")\n",
    "for i in x:\n",
    "    if ord(i)<ord(y) and ord(i)>96:\n",
    "        print(i,end=\"\")"
   ]
  },
  {
   "cell_type": "code",
   "execution_count": 34,
   "metadata": {},
   "outputs": [
    {
     "name": "stdout",
     "output_type": "stream",
     "text": [
      "enter a number:10.34\n",
      "10,\n",
      "34"
     ]
    }
   ],
   "source": [
    "x=input(\"enter a number:\")\n",
    "y=x.replace(\".\",\"1\",1)\n",
    "if y.isdigit() and x.find('.')>0:\n",
    "    for i in x:\n",
    "        if i=='.':\n",
    "            print(',',end=\"\")\n",
    "            print()\n",
    "            continue\n",
    "        print(i,end=\"\")\n",
    "            \n",
    "        \n",
    "else:\n",
    "    print(\"invalid\")"
   ]
  },
  {
   "cell_type": "code",
   "execution_count": 2,
   "metadata": {},
   "outputs": [
    {
     "name": "stdout",
     "output_type": "stream",
     "text": [
      "enter a character:m\n",
      "enter length:5\n",
      "mnopq"
     ]
    }
   ],
   "source": [
    "y=input(\"enter a character:\")\n",
    "z=int(input(\"enter length:\"))\n",
    "for i in range(ord(y),ord(y)+5):\n",
    "    print(chr(i),end=\"\")"
   ]
  },
  {
   "cell_type": "code",
   "execution_count": 3,
   "metadata": {},
   "outputs": [
    {
     "name": "stdout",
     "output_type": "stream",
     "text": [
      "enter string:tech\n",
      "ufdi"
     ]
    }
   ],
   "source": [
    "y=input(\"enter string:\")\n",
    "for i in y:\n",
    "    print(chr(ord(i)+1),end=\"\")"
   ]
  },
  {
   "cell_type": "code",
   "execution_count": 8,
   "metadata": {},
   "outputs": [
    {
     "name": "stdout",
     "output_type": "stream",
     "text": [
      "[10, 20, 30, 3, 0, 30, 30, [5, 20, 20, 90]]\n",
      "<class 'list'>\n",
      "[10, 20, 30, 3, 0, 30, [5, 20, 20, 90]]\n"
     ]
    }
   ],
   "source": [
    "x=[10,20,30,3,0,30,30,[5,20,20,90]]\n",
    "print(x)\n",
    "print(type(x))\n",
    "del x[5]\n",
    "print(x)"
   ]
  },
  {
   "cell_type": "code",
   "execution_count": 9,
   "metadata": {},
   "outputs": [
    {
     "name": "stdout",
     "output_type": "stream",
     "text": [
      "enter a number:55\n",
      "[0, 1, 2, 3, 4, 5, 6, 7, 8, 9, 10, 11, 12, 13, 14, 15, 16, 17, 18, 19, 20, 21, 22, 23, 24, 25, 26, 27, 28, 29, 30, 31, 32, 33, 34, 35, 36, 37, 38, 39, 40, 41, 42, 43, 44, 45, 46, 47, 48, 49, 50, 51, 52, 53, 54, 55]\n"
     ]
    }
   ],
   "source": [
    "x=int(input(\"enter a number:\"))\n",
    "y=[]\n",
    "for i in range(0,x+1):\n",
    "    y.append(i)\n",
    "print(y)    "
   ]
  },
  {
   "cell_type": "code",
   "execution_count": 11,
   "metadata": {},
   "outputs": [
    {
     "name": "stdout",
     "output_type": "stream",
     "text": [
      "[10, 20, 30, 0, 56, 'print']\n"
     ]
    }
   ],
   "source": [
    "x=[10,20,30,10,0,56,\"print\",\"print\"]\n",
    "y=[]\n",
    "for i in x:\n",
    "    if i not in y:\n",
    "        y.append(i)\n",
    "print(y)"
   ]
  },
  {
   "cell_type": "code",
   "execution_count": 16,
   "metadata": {},
   "outputs": [
    {
     "name": "stdout",
     "output_type": "stream",
     "text": [
      "enter a number:10\n",
      "enter element:1\n",
      "enter element:2\n",
      "enter element:3\n",
      "enter element:1\n",
      "enter element:1\n",
      "enter element:1\n",
      "enter element:1\n",
      "enter element:1\n",
      "enter element:1\n",
      "enter element:1\n",
      "enter element:1\n",
      "['1', '2', '3', '1', '1', '1', '1', '1', '1', '1', '1']\n"
     ]
    }
   ],
   "source": [
    "x=int(input(\"enter a number:\"))\n",
    "y=[]\n",
    "for i in range(0,x+1):\n",
    "    y.append(input(\"enter element:\"))\n",
    "print(y)"
   ]
  },
  {
   "cell_type": "code",
   "execution_count": 17,
   "metadata": {},
   "outputs": [
    {
     "name": "stdout",
     "output_type": "stream",
     "text": [
      "11\n"
     ]
    }
   ],
   "source": [
    "print(3^8)"
   ]
  },
  {
   "cell_type": "code",
   "execution_count": 18,
   "metadata": {},
   "outputs": [
    {
     "name": "stdout",
     "output_type": "stream",
     "text": [
      "abcdefgh\n"
     ]
    }
   ],
   "source": [
    "print('abcdefgh'.replace('ij','56'))"
   ]
  },
  {
   "cell_type": "code",
   "execution_count": 21,
   "metadata": {},
   "outputs": [
    {
     "name": "stdout",
     "output_type": "stream",
     "text": [
      "hyderabad\n"
     ]
    }
   ],
   "source": [
    "a=\"\\n\\thyderabad\\t\\n\"\n",
    "print(a.strip())"
   ]
  },
  {
   "cell_type": "code",
   "execution_count": 25,
   "metadata": {},
   "outputs": [
    {
     "name": "stdout",
     "output_type": "stream",
     "text": [
      "65\n"
     ]
    }
   ],
   "source": [
    "\n",
    "print(ord('A'))\n"
   ]
  },
  {
   "cell_type": "code",
   "execution_count": 28,
   "metadata": {},
   "outputs": [
    {
     "name": "stdout",
     "output_type": "stream",
     "text": [
      "enter password:Vamsi@1344\n",
      "password valid:\n"
     ]
    }
   ],
   "source": [
    "x=input(\"enter password:\")\n",
    "y=0\n",
    "z=0\n",
    "a=0\n",
    "b=0\n",
    "if len(x)>6 and len(x)<12:\n",
    "    for i in x:\n",
    "        if ord(i)>96 and ord(i)<123:\n",
    "            y=y+1\n",
    "        if ord(i)>64 and ord(i)<91:\n",
    "            z=z+1\n",
    "        if ord(i)>47 and ord(i)<58:\n",
    "            a=a+1\n",
    "        if (ord(i)>26 and ord(i)<48) or (ord(i)>57 and ord(i)<65) or (ord(i)>90 and ord(i)<97) or(ord(i)>122 and ord(i)<127):\n",
    "            b=b+1\n",
    "    if a>=1 and b>=1 and y>=1 and z>=1:\n",
    "        print(\"password valid:\")\n",
    "else:\n",
    "    print(\"password invalid:\")"
   ]
  },
  {
   "cell_type": "code",
   "execution_count": null,
   "metadata": {},
   "outputs": [],
   "source": [
    "x=input(\"enter string:\")\n",
    "y=\"aeiou\"\n",
    "z=\"\"\n",
    "a=\"\"\n",
    "for i in x:\n",
    "    if i.lower() in y:\n",
    "        z=z+i\n",
    "print(z)\n",
    "for i in y:\n",
    "    print(z.count(i))\n",
    "    \n",
    "    "
   ]
  },
  {
   "cell_type": "code",
   "execution_count": 1,
   "metadata": {},
   "outputs": [
    {
     "name": "stdout",
     "output_type": "stream",
     "text": [
      "vamsi 80\n"
     ]
    }
   ],
   "source": [
    "x=\"vamsi\"\n",
    "y=80\n",
    "print(\"%s %d\" %(x,y))"
   ]
  },
  {
   "cell_type": "code",
   "execution_count": 12,
   "metadata": {},
   "outputs": [
    {
     "name": "stdout",
     "output_type": "stream",
     "text": [
      "4\n",
      "0\n",
      "1\n",
      "['python', 'is', 'an', 'easy language', 'java']\n",
      "['python', 'is', 'an', 'easy language', 'c', 'java']\n",
      "['python', 'is', 'an', 'easy language', 'java']\n",
      "['python', 'is', 'an', 'easy language']\n",
      "['is', 'an', 'easy language']\n",
      "['is', 'an', 'easy language', 'java', 'is', 'an', 'easy', 'language']\n",
      "['an', 'an', 'easy', 'easy language', 'is', 'is', 'java', 'language']\n",
      "['language', 'java', 'is', 'is', 'easy language', 'easy', 'an', 'an']\n",
      "['language', 'java', 'is', 'is', 'easy language', 'easy', 'an', 'an']\n"
     ]
    }
   ],
   "source": [
    "x=['python','is','an', 'easy language']\n",
    "y=['java' ,'is' ,'an' ,'easy','language']\n",
    "print(len(x))\n",
    "print(x.index('python'))\n",
    "print(x.count('python'))\n",
    "x.append('java')\n",
    "print(x)\n",
    "x.insert(-1,'c')\n",
    "print(x)\n",
    "del x[x.index('c')]\n",
    "print(x)\n",
    "x.pop()\n",
    "print(x)\n",
    "x.remove('python')\n",
    "print(x)\n",
    "x.extend(y)\n",
    "print(x)\n",
    "x.sort()\n",
    "print(x)\n",
    "x.reverse()\n",
    "print(x)\n",
    "x.sort(reverse=True)\n",
    "print(x)"
   ]
  },
  {
   "cell_type": "code",
   "execution_count": 14,
   "metadata": {},
   "outputs": [
    {
     "name": "stdout",
     "output_type": "stream",
     "text": [
      "[6, 2, 2, 13, 64, 25, 0, 36]\n"
     ]
    }
   ],
   "source": [
    "x=['python','is','an', 'easy language',8,5,0,6]\n",
    "y=[]\n",
    "for i in x:\n",
    "    if type(i) is int:\n",
    "        y.append(i**2)\n",
    "    else:\n",
    "        y.append(len(i))\n",
    "print(y)"
   ]
  },
  {
   "cell_type": "code",
   "execution_count": 17,
   "metadata": {},
   "outputs": [
    {
     "name": "stdout",
     "output_type": "stream",
     "text": [
      "['python', 'is', 'an', 'easy', 'language', 8, 5, 0, 6]\n"
     ]
    }
   ],
   "source": [
    "x=['python','is','an',[ 'easy', 'language'],[8,5,0,6]]\n",
    "y=[]\n",
    "z=0\n",
    "for i in x:\n",
    "    if type(i) is not list:\n",
    "            y.append(i)\n",
    "    else:\n",
    "        for j in i:\n",
    "            y.append(j)\n",
    "print(y)"
   ]
  },
  {
   "cell_type": "code",
   "execution_count": 22,
   "metadata": {},
   "outputs": [
    {
     "name": "stdout",
     "output_type": "stream",
     "text": [
      "[9, 7, 3, 10]\n"
     ]
    }
   ],
   "source": [
    "x=[8,5,0,6]\n",
    "y=[1,2,3,4,5]\n",
    "z=[]\n",
    "for i in range(0,min(len(x),len(y))):\n",
    "    z.append(x[i]+y[i])\n",
    "print(z)"
   ]
  },
  {
   "cell_type": "code",
   "execution_count": 5,
   "metadata": {},
   "outputs": [
    {
     "name": "stdout",
     "output_type": "stream",
     "text": [
      "enter a number:10\n",
      "[0, 1, 2, 3, 4, 5, 6, 7, 8, 9, 10]\n",
      "[2, 4, 6, 8, 10]\n",
      "[0, 1, 4, 9, 16, 25, 36, 49, 64, 81, 100]\n",
      "[4, 16, 36, 64, 100]\n"
     ]
    }
   ],
   "source": [
    "x=int(input(\"enter a number:\"))\n",
    "y=[]\n",
    "z=[]\n",
    "a=[]\n",
    "b=[]\n",
    "for i in range(0,x+1):\n",
    "    y.append(i)\n",
    "    a.append(i**2)\n",
    "    if i>0 and i%2==0:\n",
    "        z.append(i)\n",
    "        b.append(i**2)\n",
    "print(y)\n",
    "print(z)\n",
    "print(a)\n",
    "print(b)"
   ]
  },
  {
   "cell_type": "code",
   "execution_count": 17,
   "metadata": {},
   "outputs": [
    {
     "name": "stdout",
     "output_type": "stream",
     "text": [
      "enter start number:1\n",
      "enter end number:10\n",
      "[1]\n",
      "[1, 1, 2]\n",
      "[1, 1, 2, 1, 3]\n",
      "[1, 1, 2, 1, 3, 1, 2, 4]\n",
      "[1, 1, 2, 1, 3, 1, 2, 4, 1, 5]\n",
      "[1, 1, 2, 1, 3, 1, 2, 4, 1, 5, 1, 2, 3, 6]\n",
      "[1, 1, 2, 1, 3, 1, 2, 4, 1, 5, 1, 2, 3, 6, 1, 7]\n",
      "[1, 1, 2, 1, 3, 1, 2, 4, 1, 5, 1, 2, 3, 6, 1, 7, 1, 2, 4, 8]\n",
      "[1, 1, 2, 1, 3, 1, 2, 4, 1, 5, 1, 2, 3, 6, 1, 7, 1, 2, 4, 8, 1, 3, 9]\n",
      "[1, 1, 2, 1, 3, 1, 2, 4, 1, 5, 1, 2, 3, 6, 1, 7, 1, 2, 4, 8, 1, 3, 9, 1, 2, 5, 10]\n"
     ]
    }
   ],
   "source": [
    "x=int(input(\"enter start number:\"))\n",
    "y=int(input(\"enter end number:\"))\n",
    "z=[]\n",
    "for i in range(x,y+1):\n",
    "    for j in range(1,i+1):\n",
    "        if i%j==0:\n",
    "            z.append(j)\n",
    "    print(z)\n",
    "        "
   ]
  },
  {
   "cell_type": "code",
   "execution_count": 16,
   "metadata": {},
   "outputs": [
    {
     "name": "stdout",
     "output_type": "stream",
     "text": [
      "Enter lower range: 1\n",
      "Enter upper range: 10\n",
      "Prime numbers between 1 and 10 are:\n",
      "[1, 2, 4, 2, 6, 3, 6, 2, 8, 4, 8, 3, 9, 2, 10, 5, 10]\n"
     ]
    }
   ],
   "source": [
    "lower = int(input(\"Enter lower range: \"))\n",
    "upper = int(input(\"Enter upper range: \"))\n",
    "print(\"Prime numbers between\",lower,\"and\",upper,\"are:\")\n",
    "y=[1]\n",
    "for num in range(lower,upper + 1):\n",
    "    \n",
    "   # prime numbers are greater than 1\n",
    "   if num > 1:\n",
    "        for i in range(2,num):\n",
    "            if (num % i) == 0:\n",
    "                y.append(i)\n",
    "                y.append(num)\n",
    "print(y)"
   ]
  },
  {
   "cell_type": "code",
   "execution_count": 2,
   "metadata": {},
   "outputs": [
    {
     "name": "stdout",
     "output_type": "stream",
     "text": [
      "[0, 1, 2, 3, 4, 5, 6, 7, 8, 9, 10]\n",
      "[2, 4, 6, 8, 10]\n",
      "[0, 1, 4, 9, 16, 25, 36, 49, 64, 81, 100]\n",
      "[4, 16, 36, 64, 100]\n"
     ]
    }
   ],
   "source": [
    "x=[i for i in range(11)]\n",
    "print(x)\n",
    "z=[i for i in range(11) if i%2==0 and i>1]\n",
    "print(z)\n",
    "y=[i**2 for i in range(11)]\n",
    "print(y)\n",
    "a=[i**2 for i in range(11) if i>1 and i%2==0]\n",
    "print(a)"
   ]
  },
  {
   "cell_type": "code",
   "execution_count": 4,
   "metadata": {},
   "outputs": [
    {
     "name": "stdout",
     "output_type": "stream",
     "text": [
      "enter a character:g\n",
      "['g', 'h', 'i', 'j', 'k', 'l', 'm', 'n', 'o', 'p', 'q', 'r', 's', 't', 'u', 'v', 'w', 'x', 'y', 'z']\n"
     ]
    }
   ],
   "source": [
    "x=input(\"enter a character:\")\n",
    "y=[chr(i) for i in range(ord(x),ord('z')+1)]\n",
    "print(y)"
   ]
  },
  {
   "cell_type": "code",
   "execution_count": 6,
   "metadata": {},
   "outputs": [
    {
     "name": "stdout",
     "output_type": "stream",
     "text": [
      "enter a character:g\n",
      "enter a number:10\n",
      "['g', 'h', 'i', 'j', 'k', 'l', 'm', 'n', 'o', 'p']\n"
     ]
    }
   ],
   "source": [
    "x=input(\"enter a character:\")\n",
    "z=int(input(\"enter a number:\"))\n",
    "y=[chr(i) for i in range(ord(x),ord(x)+z)]\n",
    "print(y)"
   ]
  },
  {
   "cell_type": "code",
   "execution_count": 8,
   "metadata": {},
   "outputs": [
    {
     "name": "stdout",
     "output_type": "stream",
     "text": [
      "enter a string:python is an easy programming language\n",
      "enter a number:4\n",
      "['python', 'programming', 'language']\n"
     ]
    }
   ],
   "source": [
    "x=input(\"enter a string:\")\n",
    "y=int(input(\"enter a number:\"))\n",
    "z=[i for i in x.split() if len(i)>y]\n",
    "print(z)"
   ]
  },
  {
   "cell_type": "code",
   "execution_count": 12,
   "metadata": {},
   "outputs": [
    {
     "name": "stdout",
     "output_type": "stream",
     "text": [
      "enter a string:python is an easy programming language\n",
      "enter a character:i\n",
      "['p', 'y', 't', 'o', 'n', 's', 'n', 's', 'y', 'p', 'r', 'o', 'r', 'm', 'm', 'n', 'l', 'n', 'u']\n"
     ]
    }
   ],
   "source": [
    "x=input(\"enter a string:\")\n",
    "y=input(\"enter a character:\")\n",
    "z=[i for i in x if ord(i)>ord(y)]\n",
    "print(z)"
   ]
  },
  {
   "cell_type": "code",
   "execution_count": 80,
   "metadata": {},
   "outputs": [
    {
     "name": "stdout",
     "output_type": "stream",
     "text": [
      "['python', 'mysql', 'c++']\n",
      "['php', 'java', 'c', '.net', 'oracle']\n"
     ]
    }
   ],
   "source": [
    "x=[\"python\",\"php\",\"mysql\",\"java\",\"c\",\"c++\",\".net\",\"oracle\"]\n",
    "y=[2,5,0]\n",
    "z=[]\n",
    "a=[]\n",
    "\n",
    "for i in range(len(x)):\n",
    "    if i in y:\n",
    "        a.append(x[i])\n",
    "    else:\n",
    "        z.append(x[i])\n",
    "print(a)\n",
    "print(z)\n",
    "    "
   ]
  },
  {
   "cell_type": "code",
   "execution_count": 77,
   "metadata": {},
   "outputs": [
    {
     "ename": "SyntaxError",
     "evalue": "invalid syntax (<ipython-input-77-0c66d3f6ff56>, line 8)",
     "output_type": "error",
     "traceback": [
      "\u001b[1;36m  File \u001b[1;32m\"<ipython-input-77-0c66d3f6ff56>\"\u001b[1;36m, line \u001b[1;32m8\u001b[0m\n\u001b[1;33m    for i not in y:\u001b[0m\n\u001b[1;37m            ^\u001b[0m\n\u001b[1;31mSyntaxError\u001b[0m\u001b[1;31m:\u001b[0m invalid syntax\n"
     ]
    }
   ],
   "source": [
    "x=[\"python\",\"php\",\"mysql\",\"java\",\"c\",\"c++\",\".net\",\"oracle\"]\n",
    "y=[2,5,0]\n",
    "z=[]\n",
    "a=[]\n",
    "for i in y:\n",
    "    z.append(x[i])\n",
    "print(z)\n"
   ]
  },
  {
   "cell_type": "code",
   "execution_count": 2,
   "metadata": {},
   "outputs": [
    {
     "name": "stdout",
     "output_type": "stream",
     "text": [
      "(1, 10, 20) ('skype', 'java')\n"
     ]
    }
   ],
   "source": [
    "a=1,10,20,\"skype\",\"java\"\n",
    "x,y=[],[]\n",
    "for i in a:\n",
    "    if type(i) is int:\n",
    "        x.append(i)\n",
    "    else:\n",
    "        y.append(i)\n",
    "print(tuple(x),tuple(y))\n",
    "        "
   ]
  },
  {
   "cell_type": "code",
   "execution_count": 4,
   "metadata": {},
   "outputs": [
    {
     "name": "stdout",
     "output_type": "stream",
     "text": [
      "(1, 10, 20, 'skype', 'java', 1, 10, 20, 'skype', 'java')\n"
     ]
    }
   ],
   "source": [
    "a=1,10,20,\"skype\",\"java\",[1,10,20],(\"skype\",\"java\")\n",
    "x=[]\n",
    "for i in a:\n",
    "    if type(i) is list or type(i) is tuple:\n",
    "        for j in i:\n",
    "            x.append(j)\n",
    "    else:\n",
    "        x.append(i)\n",
    "print(tuple(x))\n",
    "            "
   ]
  },
  {
   "cell_type": "code",
   "execution_count": 43,
   "metadata": {},
   "outputs": [
    {
     "name": "stdout",
     "output_type": "stream",
     "text": [
      "enter co-ordinates:1\n",
      "enter co-ordinates:2\n",
      "enter co-ordinates:\n",
      "enter co-ordinates:\n",
      "invalid input:\n"
     ]
    }
   ],
   "source": [
    "import math\n",
    "x,y,z=[],0,[]\n",
    "for i in range(4):\n",
    "    x.append(input(\"enter co-ordinates:\"))\n",
    "for i in x:\n",
    "    if i.isdigit():\n",
    "        z.append(int(i))\n",
    "if len(z)>3:\n",
    "    y=math.sqrt((z[0]-z[2])**2+(z[1]-z[3])**2)\n",
    "    print(\"the distance between points\",z[0:2],\"and\",z[2:4],\"is\",y)\n",
    "else:\n",
    "    print(\"invalid input:\")"
   ]
  },
  {
   "cell_type": "code",
   "execution_count": 15,
   "metadata": {},
   "outputs": [
    {
     "name": "stdout",
     "output_type": "stream",
     "text": [
      "enter a word:python\n",
      "[('p', 'q'), ('y', 'z'), ('t', 'u'), ('h', 'i'), ('o', 'p'), ('n', 'o')]\n"
     ]
    }
   ],
   "source": [
    "x=input(\"enter a word:\")\n",
    "y=[]\n",
    "for i in x:\n",
    "\n",
    "         y.append(tuple([i,chr(ord(i)+1)]))\n",
    "print(y)        "
   ]
  },
  {
   "cell_type": "code",
   "execution_count": 14,
   "metadata": {},
   "outputs": [
    {
     "name": "stdout",
     "output_type": "stream",
     "text": [
      "7\n",
      "21 14 11 13 29 24 15\n",
      "15 29 13 11 21 14 24 "
     ]
    }
   ],
   "source": [
    "x=int(input())\n",
    "y=input()\n",
    "z=[]\n",
    "a=[]\n",
    "b=[]\n",
    "for i in y.split():\n",
    "    z.append(int(i))\n",
    "for i in z:\n",
    "    if i%2==0:\n",
    "        a.append(i)\n",
    "    else:\n",
    "        b.append(i)\n",
    "if len(a)>len(b):\n",
    "    pass\n",
    "else:\n",
    "    b=b[::-1]\n",
    "    for i in b:\n",
    "        print(i,end=\" \")\n",
    "    for i in a:\n",
    "        print(i,end=\" \")\n",
    "        "
   ]
  },
  {
   "cell_type": "code",
   "execution_count": 8,
   "metadata": {},
   "outputs": [
    {
     "name": "stdout",
     "output_type": "stream",
     "text": [
      "15 29 13 11 21 14 24 "
     ]
    }
   ],
   "source": [
    "a=[15, 29, 13, 11, 21, 14, 24]\n",
    "for i in a:\n",
    "    print(i,end=\" \")"
   ]
  },
  {
   "cell_type": "code",
   "execution_count": 2,
   "metadata": {},
   "outputs": [
    {
     "name": "stdout",
     "output_type": "stream",
     "text": [
      "lync is present in the sequence:\n"
     ]
    }
   ],
   "source": [
    "L=[\"digital\", \"lync\", \"hyderabad\", \"gachibowli\", \"kukatpally\"]\n",
    "for i in L:\n",
    "    if i==\"lync\":\n",
    "        print(\"lync is present in the sequence:\")\n"
   ]
  },
  {
   "cell_type": "code",
   "execution_count": 6,
   "metadata": {},
   "outputs": [
    {
     "name": "stdout",
     "output_type": "stream",
     "text": [
      "1\n",
      "109\n",
      "108\n",
      "-46\n",
      "-66\n",
      "180\n",
      "260\n",
      "11\n",
      "16\n"
     ]
    }
   ],
   "source": [
    "a,b=45,65\n",
    "print(a&b)\n",
    "print(a|b)\n",
    "print(a^b)\n",
    "print(~a)\n",
    "print(~b)\n",
    "print(a<<2)\n",
    "print(b<<2)\n",
    "print(a>>2)\n",
    "print(b>>2)"
   ]
  },
  {
   "cell_type": "code",
   "execution_count": 1,
   "metadata": {},
   "outputs": [
    {
     "name": "stdout",
     "output_type": "stream",
     "text": [
      "65\n",
      "65.33\n",
      "(65.33+0j)\n",
      "65.33\n",
      "8247650592082470666723170306785496252186258551345437492922123134388955774976000000000000000\n",
      "8.082697569499926\n",
      "2.3575369202508283e+28\n"
     ]
    }
   ],
   "source": [
    "import math\n",
    "from numpy import *\n",
    "z=65.33\n",
    "a=int(z)\n",
    "print(a)\n",
    "print(double(z))\n",
    "print(complex(z))\n",
    "print(abs(z))\n",
    "print(math.factorial(a))\n",
    "print(math.sqrt(z))\n",
    "print(math.exp(z))"
   ]
  },
  {
   "cell_type": "code",
   "execution_count": 3,
   "metadata": {},
   "outputs": [
    {
     "name": "stdout",
     "output_type": "stream",
     "text": [
      "enter an integer:123\n",
      "6\n"
     ]
    }
   ],
   "source": [
    "x=input(\"enter an integer:\")\n",
    "y=0\n",
    "for i in x:\n",
    "    y=y+int(i)\n",
    "print(y)"
   ]
  },
  {
   "cell_type": "code",
   "execution_count": 5,
   "metadata": {},
   "outputs": [
    {
     "name": "stdout",
     "output_type": "stream",
     "text": [
      "True\n",
      "False\n",
      "False\n",
      "True\n",
      "False\n",
      "True\n"
     ]
    }
   ],
   "source": [
    "x,y = 15,2\n",
    "print(x>y)\n",
    "print(x<y)\n",
    "print(x==y)\n",
    "print(x!=y)\n",
    "print(x<=y)\n",
    "print(x>=y)"
   ]
  },
  {
   "cell_type": "code",
   "execution_count": 14,
   "metadata": {},
   "outputs": [
    {
     "name": "stdout",
     "output_type": "stream",
     "text": [
      "yhnetobgnes"
     ]
    }
   ],
   "source": [
    "x=\"pythonbestforbeginners\"\n",
    "for i in range(0,len(x)):\n",
    "    if i%2!=0:\n",
    "        print(x[i],end=\"\")"
   ]
  },
  {
   "cell_type": "code",
   "execution_count": 3,
   "metadata": {},
   "outputs": [
    {
     "name": "stdout",
     "output_type": "stream",
     "text": [
      "t\n",
      "n\n",
      "s\n",
      "o\n",
      "e\n",
      "n\n",
      "r\n",
      "['py@honbestforbeginners', 'pytho@bestforbeginners', 'pythonbe@tforbeginners', 'pyth@nbestforbeginners', 'pythonb@stforbeginners', 'pytho@bestforbeginners', 'pythonbestfo@beginners']\n"
     ]
    }
   ],
   "source": [
    "x=\"pythonbestforbeginners\"\n",
    "y=[]\n",
    "z=\"@\"\n",
    "\n",
    "for i in range(1,len(x)):\n",
    "    if i%3==0:\n",
    "        y.append(i-1)\n",
    "for i in range(0,len(x)):\n",
    "    if i in y:\n",
    "        a=x.replace(x[i],z)\n",
    "        print(x[i])\n",
    "a=[x.replace(x[i],z,1) for i in range(0,len(x)) if i in y]\n",
    "print(a)"
   ]
  },
  {
   "cell_type": "code",
   "execution_count": null,
   "metadata": {},
   "outputs": [],
   "source": [
    "x=input(\"enter a string:\")\n",
    "y=input(\"enter old string:\")\n",
    "z=input(\"enter new string:\")\n",
    "a=int(input(\"enter no.of times:\"))\n",
    "print(x.replace(y,z,a))"
   ]
  },
  {
   "cell_type": "code",
   "execution_count": 23,
   "metadata": {},
   "outputs": [
    {
     "name": "stdout",
     "output_type": "stream",
     "text": [
      "tnsoenr"
     ]
    }
   ],
   "source": [
    "x=\"pythonbestforbeginners\"\n",
    "for i in range(1,len(x)):\n",
    "    if i%3==0:\n",
    "        print(x[i-1],end=\"\")"
   ]
  },
  {
   "cell_type": "code",
   "execution_count": 6,
   "metadata": {},
   "outputs": [
    {
     "name": "stdout",
     "output_type": "stream",
     "text": [
      "enter a value:10\n",
      "enter a value:20\n",
      "20 10\n"
     ]
    }
   ],
   "source": [
    "a=int(input(\"enter a value:\"))\n",
    "b=int(input(\"enter a value:\"))\n",
    "a=a+b\n",
    "b=a-b\n",
    "a=a-b\n",
    "print(a,b)"
   ]
  },
  {
   "cell_type": "code",
   "execution_count": 10,
   "metadata": {},
   "outputs": [
    {
     "name": "stdout",
     "output_type": "stream",
     "text": [
      "enter nuber:123\n",
      "not a armstrong number:\n"
     ]
    }
   ],
   "source": [
    "x=(input(\"enter nuber:\"))\n",
    "y=int(x)\n",
    "b=int(x)\n",
    "z=0\n",
    "a=0\n",
    "for i in range(len(x)):\n",
    "    a=y%10\n",
    "    y=y//10\n",
    "    z=z+a**len(x)\n",
    "if z==b:\n",
    "    print(\"armstrong number:\")\n",
    "else:\n",
    "    print(\"not a armstrong number:\",)"
   ]
  },
  {
   "cell_type": "code",
   "execution_count": 18,
   "metadata": {},
   "outputs": [
    {
     "name": "stdout",
     "output_type": "stream",
     "text": [
      "enter a number:7\n",
      "prime number:\n"
     ]
    }
   ],
   "source": [
    "x=int(input(\"enter a number:\"))\n",
    "y=0\n",
    "for i in range(2,x):\n",
    "    if x%i==0:\n",
    "        y=y+1\n",
    "if y>=1:\n",
    "    print(\"composite number:\")\n",
    "else:\n",
    "    print(\"prime number:\")"
   ]
  },
  {
   "cell_type": "code",
   "execution_count": 21,
   "metadata": {},
   "outputs": [
    {
     "name": "stdout",
     "output_type": "stream",
     "text": [
      "[0, 1, 1, 2, 3, 5, 8, 13, 21, 34]\n"
     ]
    }
   ],
   "source": [
    "x=9\n",
    "y=[0,1]\n",
    "for i in range(2,10):\n",
    "    y.append(y[i-2]+y[i-1])\n",
    "print(y)"
   ]
  },
  {
   "cell_type": "code",
   "execution_count": 22,
   "metadata": {},
   "outputs": [
    {
     "name": "stdout",
     "output_type": "stream",
     "text": [
      "enter lower range:1\n",
      "enter upper range:10\n",
      "even count: 5\n",
      "odd count: 5\n"
     ]
    }
   ],
   "source": [
    "x=int(input(\"enter lower range:\"))\n",
    "y=int(input(\"enter upper range:\"))\n",
    "z=0\n",
    "a=0\n",
    "for i in range(x,y+1):\n",
    "    if i%2==0:\n",
    "        z=z+1\n",
    "    else:\n",
    "        a=a+1\n",
    "print(\"even count:\",z)\n",
    "print(\"odd count:\",a)"
   ]
  },
  {
   "cell_type": "code",
   "execution_count": 24,
   "metadata": {},
   "outputs": [
    {
     "name": "stdout",
     "output_type": "stream",
     "text": [
      "*****\n",
      "****\n",
      "***\n",
      "**\n",
      "*\n"
     ]
    }
   ],
   "source": [
    "for i in range(5,0,-1):\n",
    "    print('*'*i)"
   ]
  },
  {
   "cell_type": "code",
   "execution_count": null,
   "metadata": {},
   "outputs": [
    {
     "name": "stdout",
     "output_type": "stream",
     "text": [
      "9\n",
      "18\n",
      "27\n",
      "36\n",
      "45\n",
      "54\n",
      "63\n",
      "72\n",
      "81\n",
      "90\n"
     ]
    }
   ],
   "source": [
    "x=9\n",
    "print(x)\n",
    "while x>0:\n",
    "    if x<90:\n",
    "        x=x+9\n",
    "        print(x)"
   ]
  },
  {
   "cell_type": "code",
   "execution_count": 2,
   "metadata": {},
   "outputs": [
    {
     "name": "stdout",
     "output_type": "stream",
     "text": [
      "2,3,4,6,8,9,10,12,14,15,16,18,20,21,22,24,26,27,28,30,32,33,34,36,38,39,40,42,44,45,46,48,50,"
     ]
    }
   ],
   "source": [
    "for i in range(1,51):\n",
    "    if i%2==0 or i%3==0:\n",
    "        print(i,end=\",\")"
   ]
  },
  {
   "cell_type": "code",
   "execution_count": 3,
   "metadata": {},
   "outputs": [
    {
     "name": "stdout",
     "output_type": "stream",
     "text": [
      "enter an integer:150\n",
      "6\n"
     ]
    }
   ],
   "source": [
    "x=input(\"enter an integer:\")\n",
    "y=0\n",
    "for i in x:\n",
    "    y=y+int(i)\n",
    "print(y)"
   ]
  },
  {
   "cell_type": "code",
   "execution_count": 10,
   "metadata": {},
   "outputs": [
    {
     "name": "stdout",
     "output_type": "stream",
     "text": [
      "1,2,4,7,8,11,13,14,16,17,19,22,23,26,28,29,31,32,34,37,38,41,43,44,46,47,49,"
     ]
    }
   ],
   "source": [
    "for i in range(1,51):\n",
    "    if i%5==0 or i%3==0:\n",
    "        continue\n",
    "    else:\n",
    "        print(i,end=\",\")\n",
    "        "
   ]
  },
  {
   "cell_type": "code",
   "execution_count": 11,
   "metadata": {},
   "outputs": [
    {
     "name": "stdout",
     "output_type": "stream",
     "text": [
      "4,16,36,64,100,144,196,256,324,400,484,576,676,784,900,1024,1156,1296,1444,1600,1764,1936,2116,2304,2500,"
     ]
    }
   ],
   "source": [
    "for i in range(1,51):\n",
    "    if i%2==0:\n",
    "        print(i**2,end=\",\")"
   ]
  },
  {
   "cell_type": "code",
   "execution_count": 17,
   "metadata": {},
   "outputs": [
    {
     "name": "stdout",
     "output_type": "stream",
     "text": [
      "7,21,35,49,63,"
     ]
    }
   ],
   "source": [
    "for i in range(1,71):\n",
    "    if i%2!=0 and i%7==0:\n",
    "        print(i,end=\",\")\n",
    "        pass"
   ]
  },
  {
   "cell_type": "code",
   "execution_count": 19,
   "metadata": {},
   "outputs": [
    {
     "name": "stdout",
     "output_type": "stream",
     "text": [
      "enter a string:python\n",
      "o\n"
     ]
    }
   ],
   "source": [
    "x=input(\"enter a string:\")\n",
    "y=\"aeiou\"\n",
    "for i in x:\n",
    "    if i.lower() in y:\n",
    "        print(i)"
   ]
  },
  {
   "cell_type": "code",
   "execution_count": 7,
   "metadata": {},
   "outputs": [
    {
     "name": "stdout",
     "output_type": "stream",
     "text": [
      "enter a number:36\n",
      "enter a number:5\n",
      "-1\n"
     ]
    }
   ],
   "source": [
    "def decimalToBinary(n):  \n",
    "    return bin(n).replace(\"0b\", \"\")\n",
    "x,y,z=int(input(\"enter a number:\")),int(input(\"enter a number:\")),0\n",
    "if __name__ == '__main__':  \n",
    "    z=decimalToBinary(x)\n",
    "if len(z)<y:\n",
    "    print(z.zfill(y))\n",
    "elif len(z)==y:\n",
    "    print(z)\n",
    "else:\n",
    "    print(\"-1\")"
   ]
  },
  {
   "cell_type": "code",
   "execution_count": 13,
   "metadata": {},
   "outputs": [
    {
     "name": "stdout",
     "output_type": "stream",
     "text": [
      "11000"
     ]
    }
   ],
   "source": [
    "def DecimalToBinary(num): \n",
    "      \n",
    "    if num > 1: \n",
    "        DecimalToBinary(num // 2) \n",
    "    print(num % 2, end = '') \n",
    "  \n",
    "# Driver Code \n",
    "if __name__ == '__main__': \n",
    "      \n",
    "    # decimal value \n",
    "    dec_val = 24\n",
    "      \n",
    "    # Calling function \n",
    "    DecimalToBinary(dec_val) "
   ]
  },
  {
   "cell_type": "code",
   "execution_count": 7,
   "metadata": {},
   "outputs": [
    {
     "name": "stdout",
     "output_type": "stream",
     "text": [
      "enter list1 elements with space:1 2 3 4\n",
      "enter list2 elements with space:1 2 3 4 5\n",
      "{'1': '1', '2': '2', '3': '3', '4': '4'}\n",
      "excess element: 5\n"
     ]
    }
   ],
   "source": [
    "x,y=input(\"enter list1 elements with space:\"),input(\"enter list2 elements with space:\")\n",
    "a,b,c=[],[],{}\n",
    "for i in x.split():\n",
    "    a.append(i)\n",
    "for i in y.split():\n",
    "    b.append(i)\n",
    "for i in range(min(len(a),len(b))):\n",
    "    c[a[i]]=b[i]\n",
    "print(c)\n",
    "if len(a)==min(len(a),len(b)):\n",
    "    for i in range(len(a),len(b)):\n",
    "        print(\"excess element:\",b[i])\n",
    "else:\n",
    "    for i in range(len(b),len(a)):\n",
    "        print(\"excess element:\",a[i])"
   ]
  },
  {
   "cell_type": "code",
   "execution_count": 32,
   "metadata": {},
   "outputs": [
    {
     "name": "stdout",
     "output_type": "stream",
     "text": [
      "enter length for the pattern:4\n",
      "enter a from character for pattern:a\n",
      "abcd\n",
      "abc\n",
      "ab\n",
      "a\n"
     ]
    }
   ],
   "source": [
    "x=int(input(\"enter length for the pattern:\"))\n",
    "y=ord(input(\"enter a from character for pattern:\"))\n",
    "for j in range(x+1,1,-1):\n",
    "    for i in range(y,y+(j-1)):\n",
    "        print(chr(i),end=\"\")\n",
    "    print()    "
   ]
  },
  {
   "cell_type": "code",
   "execution_count": 9,
   "metadata": {},
   "outputs": [
    {
     "name": "stdout",
     "output_type": "stream",
     "text": [
      "81\n"
     ]
    }
   ],
   "source": [
    "a = [1, 4, 9, 16, 25, 36, 49,81, 64, 100]\n",
    "a.sort()\n",
    "print(a[-2])"
   ]
  },
  {
   "cell_type": "code",
   "execution_count": 13,
   "metadata": {},
   "outputs": [
    {
     "name": "stdout",
     "output_type": "stream",
     "text": [
      "36\n"
     ]
    }
   ],
   "source": [
    "import statistics\n",
    "a = [1, 4, 9, 16, 25, 36, 49, 64, 81, 100,36,36]\n",
    "b=[]\n",
    "print(statistics.mode(a))\n",
    "    "
   ]
  },
  {
   "cell_type": "code",
   "execution_count": 4,
   "metadata": {},
   "outputs": [
    {
     "name": "stdout",
     "output_type": "stream",
     "text": [
      "[1, 4, 9, 16, 25, 36, 49, 64, 81, 100]\n"
     ]
    }
   ],
   "source": [
    "a = [1, 4, 9, 16, 25, 36, 49, 64, 81, 100,36,36]\n",
    "b=[]\n",
    "for i in a:\n",
    "    if i not in b:\n",
    "        b.append(i)\n",
    "print(b)\n"
   ]
  },
  {
   "cell_type": "code",
   "execution_count": 25,
   "metadata": {},
   "outputs": [
    {
     "name": "stdout",
     "output_type": "stream",
     "text": [
      "[4, 16, 36, 64, 100]\n"
     ]
    }
   ],
   "source": [
    "a = [1, 4, 9, 16, 25, 36, 49,81, 64, 100]\n",
    "b=[i for i in a if int(i)%2==0]\n",
    "print(b)"
   ]
  },
  {
   "cell_type": "code",
   "execution_count": 2,
   "metadata": {},
   "outputs": [
    {
     "name": "stdout",
     "output_type": "stream",
     "text": [
      "enter number of rows:2\n",
      "enter number of columns:2\n",
      "enter first matrix elements:\n",
      "1\n",
      "2\n",
      "3\n",
      "4\n",
      "enter second matrix elements:\n",
      "0\n",
      "0\n",
      "0\n",
      "0\n",
      "[[1, 2], [3, 4]]\n"
     ]
    }
   ],
   "source": [
    "x,y=int(input(\"enter number of rows:\")),int(input(\"enter number of columns:\"))\n",
    "a,b=[],[]\n",
    "print(\"enter first matrix elements:\")\n",
    "for i in range(x):\n",
    "    a.append([])\n",
    "    for j in range(y):\n",
    "        a[i].append(int(input()))\n",
    "print(\"enter second matrix elements:\")\n",
    "for i in range(x):\n",
    "    b.append([])\n",
    "    for j in range(y):\n",
    "        b[i].append(int(input()))\n",
    "c=[[a[i][j]+b[i][j] for j in range(len(a[0]))]for i in range(len(a))]\n",
    "print(c)\n",
    "\n",
    "\n",
    "        "
   ]
  },
  {
   "cell_type": "code",
   "execution_count": 4,
   "metadata": {},
   "outputs": [
    {
     "name": "stdout",
     "output_type": "stream",
     "text": [
      "enter the number for multiplication table:5\n",
      "5 * 0 = 0\n",
      "5 * 1 = 5\n",
      "5 * 2 = 10\n",
      "5 * 3 = 15\n",
      "5 * 4 = 20\n",
      "5 * 5 = 25\n",
      "5 * 6 = 30\n",
      "5 * 7 = 35\n",
      "5 * 8 = 40\n",
      "5 * 9 = 45\n",
      "5 * 10 = 50\n",
      "5 * 11 = 55\n",
      "5 * 12 = 60\n",
      "5 * 13 = 65\n",
      "5 * 14 = 70\n",
      "5 * 15 = 75\n",
      "5 * 16 = 80\n",
      "5 * 17 = 85\n",
      "5 * 18 = 90\n",
      "5 * 19 = 95\n",
      "5 * 20 = 100\n"
     ]
    }
   ],
   "source": [
    "x=int(input(\"enter the number for multiplication table:\"))\n",
    "for i in range(21):\n",
    "    print(x,\"*\",i,\"=\",x*i)"
   ]
  },
  {
   "cell_type": "code",
   "execution_count": 5,
   "metadata": {},
   "outputs": [
    {
     "name": "stdout",
     "output_type": "stream",
     "text": [
      "(1, 2, 3, 'python')\n"
     ]
    }
   ],
   "source": [
    "x=1,2,3,\"python\"\n",
    "print(x)"
   ]
  },
  {
   "cell_type": "code",
   "execution_count": 9,
   "metadata": {},
   "outputs": [
    {
     "name": "stdout",
     "output_type": "stream",
     "text": [
      "0 1\n",
      "1 2\n",
      "2 3\n",
      "3 python\n"
     ]
    }
   ],
   "source": [
    "x=1,2,3,\"python\"\n",
    "for i in range(0,len(x)):\n",
    "    print(i,x[i])"
   ]
  },
  {
   "cell_type": "code",
   "execution_count": 12,
   "metadata": {},
   "outputs": [
    {
     "name": "stdout",
     "output_type": "stream",
     "text": [
      "nohtyp321\n"
     ]
    }
   ],
   "source": [
    "x=1,2,3,\"python\"\n",
    "y=\"\"\n",
    "for i in x:\n",
    "    y=y+str(i)\n",
    "print(y[::-1])"
   ]
  },
  {
   "cell_type": "code",
   "execution_count": 14,
   "metadata": {},
   "outputs": [
    {
     "name": "stdout",
     "output_type": "stream",
     "text": [
      "2\n"
     ]
    }
   ],
   "source": [
    "x=[1,2,3,(4,5),\"python\"]\n",
    "for i in x:\n",
    "    if type(i) is tuple:\n",
    "        print(len(i))"
   ]
  },
  {
   "cell_type": "code",
   "execution_count": 15,
   "metadata": {},
   "outputs": [
    {
     "name": "stdout",
     "output_type": "stream",
     "text": [
      "(1, 2, 3, (4, 5))\n"
     ]
    }
   ],
   "source": [
    "x=(1,2,3,(4,5),\"python\")\n",
    "x=list(x)\n",
    "del x[-1]\n",
    "x=tuple(x)\n",
    "print(x)"
   ]
  },
  {
   "cell_type": "code",
   "execution_count": 13,
   "metadata": {},
   "outputs": [
    {
     "name": "stdout",
     "output_type": "stream",
     "text": [
      "78\n"
     ]
    }
   ],
   "source": [
    "x=[[5,8,2],[7,12,45],[78,23,65],[93,43,54]]\n",
    "print(x[-2][-3])"
   ]
  },
  {
   "cell_type": "code",
   "execution_count": 14,
   "metadata": {},
   "outputs": [
    {
     "name": "stdout",
     "output_type": "stream",
     "text": [
      "[7, 12, 28, 15, 17, 23]\n"
     ]
    }
   ],
   "source": [
    "x=[7,12,15,17,23]\n",
    "x.insert(-3,28)\n",
    "print(x)"
   ]
  },
  {
   "cell_type": "code",
   "execution_count": 15,
   "metadata": {},
   "outputs": [
    {
     "name": "stdout",
     "output_type": "stream",
     "text": [
      "[(3, 1), (3, 2), (7, 4)]\n"
     ]
    }
   ],
   "source": [
    "x=[(3,2),(7,4),(3,1)]\n",
    "x.sort()\n",
    "print(x)"
   ]
  },
  {
   "cell_type": "code",
   "execution_count": 18,
   "metadata": {},
   "outputs": [
    {
     "name": "stdout",
     "output_type": "stream",
     "text": [
      "<class 'int'>\n"
     ]
    }
   ],
   "source": [
    "x=(1)\n",
    "print(type(x))"
   ]
  },
  {
   "cell_type": "code",
   "execution_count": 19,
   "metadata": {},
   "outputs": [
    {
     "name": "stdout",
     "output_type": "stream",
     "text": [
      "['name', 'age']\n"
     ]
    }
   ],
   "source": [
    "x={\"name\":\"ramesh\",\"age\":23}\n",
    "print(list(x.keys()))"
   ]
  },
  {
   "cell_type": "code",
   "execution_count": 21,
   "metadata": {},
   "outputs": [
    {
     "name": "stdout",
     "output_type": "stream",
     "text": [
      "{1: 'a', 2: 'b', 3: 'e', 4: 'd'}\n"
     ]
    }
   ],
   "source": [
    "x={1:\"a\",2:\"b\",3:\"c\"}\n",
    "y={4:\"d\",3:\"e\"}\n",
    "x.update(y)\n",
    "print(x)"
   ]
  },
  {
   "cell_type": "code",
   "execution_count": 22,
   "metadata": {},
   "outputs": [
    {
     "name": "stdout",
     "output_type": "stream",
     "text": [
      "10 {1: 5, 2: 8}\n"
     ]
    }
   ],
   "source": [
    "a={1:5,2:8,3:10}\n",
    "print(a.pop(3),a)"
   ]
  },
  {
   "cell_type": "code",
   "execution_count": 23,
   "metadata": {},
   "outputs": [
    {
     "ename": "KeyError",
     "evalue": "'3'",
     "output_type": "error",
     "traceback": [
      "\u001b[1;31m---------------------------------------------------------------------------\u001b[0m",
      "\u001b[1;31mKeyError\u001b[0m                                  Traceback (most recent call last)",
      "\u001b[1;32m<ipython-input-23-62955837a112>\u001b[0m in \u001b[0;36m<module>\u001b[1;34m\u001b[0m\n\u001b[0;32m      2\u001b[0m \u001b[1;32mdel\u001b[0m \u001b[0ma\u001b[0m\u001b[1;33m[\u001b[0m\u001b[1;34m\"3\"\u001b[0m\u001b[1;33m]\u001b[0m\u001b[1;33m\u001b[0m\u001b[1;33m\u001b[0m\u001b[0m\n\u001b[0;32m      3\u001b[0m \u001b[0ma\u001b[0m\u001b[1;33m[\u001b[0m\u001b[1;36m3\u001b[0m\u001b[1;33m]\u001b[0m\u001b[1;33m=\u001b[0m\u001b[1;34m\"kur\"\u001b[0m\u001b[1;33m\u001b[0m\u001b[1;33m\u001b[0m\u001b[0m\n\u001b[1;32m----> 4\u001b[1;33m \u001b[0mprint\u001b[0m\u001b[1;33m(\u001b[0m\u001b[0ma\u001b[0m\u001b[1;33m[\u001b[0m\u001b[1;34m\"3\"\u001b[0m\u001b[1;33m]\u001b[0m\u001b[1;33m)\u001b[0m\u001b[1;33m\u001b[0m\u001b[1;33m\u001b[0m\u001b[0m\n\u001b[0m",
      "\u001b[1;31mKeyError\u001b[0m: '3'"
     ]
    }
   ],
   "source": [
    "a={1:\"hyd\",2:\"che\",3:\"vij\",\"3\":\"sec\"}\n",
    "del a[\"3\"]\n",
    "a[3]=\"kur\"\n",
    "print(a[\"3\"])"
   ]
  },
  {
   "cell_type": "code",
   "execution_count": 24,
   "metadata": {},
   "outputs": [
    {
     "name": "stdout",
     "output_type": "stream",
     "text": [
      "{8, 6, 7}\n"
     ]
    }
   ],
   "source": [
    "a={6,7,8}\n",
    "a.add(8)\n",
    "print(a)"
   ]
  },
  {
   "cell_type": "code",
   "execution_count": 25,
   "metadata": {},
   "outputs": [
    {
     "name": "stdout",
     "output_type": "stream",
     "text": [
      "{1, 2, 3, 8, 9}\n"
     ]
    }
   ],
   "source": [
    "a={3,8,9}\n",
    "a.update([1,2,3])\n",
    "print(a)"
   ]
  },
  {
   "cell_type": "code",
   "execution_count": 26,
   "metadata": {},
   "outputs": [
    {
     "name": "stdout",
     "output_type": "stream",
     "text": [
      "{8, 9, 7}\n"
     ]
    }
   ],
   "source": [
    "a=set([7,8,9])\n",
    "a.union([6,5])\n",
    "print(a)"
   ]
  },
  {
   "cell_type": "code",
   "execution_count": 48,
   "metadata": {},
   "outputs": [
    {
     "name": "stdout",
     "output_type": "stream",
     "text": [
      "11 5 "
     ]
    }
   ],
   "source": [
    "x=[11,11,11,2,3,4,5,5,5,5,11]\n",
    "y=[]\n",
    "z={}\n",
    "for i in x:\n",
    "    z[i]=x.count(i)\n",
    "for i in x:\n",
    "    y.append(x.count(i))\n",
    "for i in z:\n",
    "    if z[i] is max(y):\n",
    "        print(i,end=\" \")\n",
    "    "
   ]
  },
  {
   "cell_type": "code",
   "execution_count": 49,
   "metadata": {},
   "outputs": [
    {
     "name": "stdout",
     "output_type": "stream",
     "text": [
      "[2, 3, 4, 5, 11]\n"
     ]
    }
   ],
   "source": [
    "x=[11,11,11,2,3,4,5,5,5,5,11]\n",
    "x=set(x)\n",
    "print(list(x))"
   ]
  },
  {
   "cell_type": "code",
   "execution_count": 10,
   "metadata": {},
   "outputs": [
    {
     "name": "stdout",
     "output_type": "stream",
     "text": [
      "[5, 77, 45, 12]\n"
     ]
    }
   ],
   "source": [
    "x=[5,6,77,45,22,12,24]\n",
    "for i in x:\n",
    "    if i%2==0:\n",
    "        x.remove(i)\n",
    "print(x)"
   ]
  },
  {
   "cell_type": "code",
   "execution_count": 17,
   "metadata": {},
   "outputs": [
    {
     "name": "stdout",
     "output_type": "stream",
     "text": [
      "[12, 24, 35, 88, 120, 155]\n"
     ]
    }
   ],
   "source": [
    "x=[12,24,35,24,88,120,155,88,120,155]\n",
    "y=[]\n",
    "for i in x:\n",
    "    if i not in y:\n",
    "        y.append(i)\n",
    "print(y)"
   ]
  },
  {
   "cell_type": "code",
   "execution_count": 7,
   "metadata": {},
   "outputs": [
    {
     "name": "stdout",
     "output_type": "stream",
     "text": [
      "enter number of keys:2\n",
      "enter key:1\n",
      "enter value:2\n",
      "enter key:1\n",
      "enter value:3\n",
      "{'1': None}\n"
     ]
    }
   ],
   "source": [
    "x=int(input(\"enter number of keys:\"))\n",
    "y={}\n",
    "c=[]\n",
    "b=0\n",
    "for i in range(x):\n",
    "    z=input(\"enter key:\")\n",
    "    a=input(\"enter value:\")\n",
    "    if z in y:\n",
    "        y[z]=[y[z]].append(a)\n",
    "    else:\n",
    "        y[z]=a\n",
    "print(y)"
   ]
  },
  {
   "cell_type": "code",
   "execution_count": 25,
   "metadata": {},
   "outputs": [
    {
     "name": "stdout",
     "output_type": "stream",
     "text": [
      "(1, 2)\n"
     ]
    }
   ],
   "source": [
    "y={1:tuple(c),2:3,3:4}\n",
    "c=[1,2]\n",
    "print(y[1])"
   ]
  },
  {
   "cell_type": "code",
   "execution_count": 10,
   "metadata": {},
   "outputs": [
    {
     "name": "stdout",
     "output_type": "stream",
     "text": [
      "40\n",
      "10\n",
      "3\n"
     ]
    },
    {
     "ename": "TypeError",
     "evalue": "int() argument must be a string, a bytes-like object or a number, not 'NoneType'",
     "output_type": "error",
     "traceback": [
      "\u001b[1;31m---------------------------------------------------------------------------\u001b[0m",
      "\u001b[1;31mTypeError\u001b[0m                                 Traceback (most recent call last)",
      "\u001b[1;32m<ipython-input-10-41845dc3720d>\u001b[0m in \u001b[0;36m<module>\u001b[1;34m\u001b[0m\n\u001b[0;32m      8\u001b[0m \u001b[1;32mdef\u001b[0m \u001b[0mdiv\u001b[0m\u001b[1;33m(\u001b[0m\u001b[0ma\u001b[0m\u001b[1;33m,\u001b[0m\u001b[0mb\u001b[0m\u001b[1;33m)\u001b[0m\u001b[1;33m:\u001b[0m\u001b[1;33m\u001b[0m\u001b[1;33m\u001b[0m\u001b[0m\n\u001b[0;32m      9\u001b[0m     \u001b[0mprint\u001b[0m\u001b[1;33m(\u001b[0m\u001b[0mint\u001b[0m\u001b[1;33m(\u001b[0m\u001b[0ma\u001b[0m\u001b[1;33m)\u001b[0m\u001b[1;33m//\u001b[0m\u001b[0mint\u001b[0m\u001b[1;33m(\u001b[0m\u001b[0mb\u001b[0m\u001b[1;33m)\u001b[0m\u001b[1;33m)\u001b[0m\u001b[1;33m\u001b[0m\u001b[1;33m\u001b[0m\u001b[0m\n\u001b[1;32m---> 10\u001b[1;33m \u001b[0mdiv\u001b[0m\u001b[1;33m(\u001b[0m\u001b[0mmul\u001b[0m\u001b[1;33m(\u001b[0m\u001b[0msub\u001b[0m\u001b[1;33m(\u001b[0m\u001b[0madd\u001b[0m\u001b[1;33m(\u001b[0m\u001b[0ma\u001b[0m\u001b[1;33m,\u001b[0m\u001b[0mb\u001b[0m\u001b[1;33m)\u001b[0m\u001b[1;33m,\u001b[0m\u001b[0mb\u001b[0m\u001b[1;33m)\u001b[0m\u001b[1;33m,\u001b[0m\u001b[0mb\u001b[0m\u001b[1;33m)\u001b[0m\u001b[1;33m,\u001b[0m\u001b[0mb\u001b[0m\u001b[1;33m)\u001b[0m\u001b[1;33m\u001b[0m\u001b[1;33m\u001b[0m\u001b[0m\n\u001b[0m",
      "\u001b[1;32m<ipython-input-10-41845dc3720d>\u001b[0m in \u001b[0;36msub\u001b[1;34m(a, b)\u001b[0m\n\u001b[0;32m      3\u001b[0m     \u001b[0mprint\u001b[0m\u001b[1;33m(\u001b[0m\u001b[0mint\u001b[0m\u001b[1;33m(\u001b[0m\u001b[0ma\u001b[0m\u001b[1;33m)\u001b[0m\u001b[1;33m+\u001b[0m\u001b[0mint\u001b[0m\u001b[1;33m(\u001b[0m\u001b[0mb\u001b[0m\u001b[1;33m)\u001b[0m\u001b[1;33m)\u001b[0m\u001b[1;33m\u001b[0m\u001b[1;33m\u001b[0m\u001b[0m\n\u001b[0;32m      4\u001b[0m \u001b[1;32mdef\u001b[0m \u001b[0msub\u001b[0m\u001b[1;33m(\u001b[0m\u001b[0ma\u001b[0m\u001b[1;33m,\u001b[0m\u001b[0mb\u001b[0m\u001b[1;33m)\u001b[0m\u001b[1;33m:\u001b[0m\u001b[1;33m\u001b[0m\u001b[1;33m\u001b[0m\u001b[0m\n\u001b[1;32m----> 5\u001b[1;33m     \u001b[0mprint\u001b[0m\u001b[1;33m(\u001b[0m\u001b[0mint\u001b[0m\u001b[1;33m(\u001b[0m\u001b[0ma\u001b[0m\u001b[1;33m)\u001b[0m\u001b[1;33m-\u001b[0m\u001b[0mint\u001b[0m\u001b[1;33m(\u001b[0m\u001b[0mb\u001b[0m\u001b[1;33m)\u001b[0m\u001b[1;33m)\u001b[0m\u001b[1;33m\u001b[0m\u001b[1;33m\u001b[0m\u001b[0m\n\u001b[0m\u001b[0;32m      6\u001b[0m \u001b[1;32mdef\u001b[0m \u001b[0mmul\u001b[0m\u001b[1;33m(\u001b[0m\u001b[0ma\u001b[0m\u001b[1;33m,\u001b[0m\u001b[0mb\u001b[0m\u001b[1;33m)\u001b[0m\u001b[1;33m:\u001b[0m\u001b[1;33m\u001b[0m\u001b[1;33m\u001b[0m\u001b[0m\n\u001b[0;32m      7\u001b[0m     \u001b[0mprint\u001b[0m\u001b[1;33m(\u001b[0m\u001b[0mint\u001b[0m\u001b[1;33m(\u001b[0m\u001b[0ma\u001b[0m\u001b[1;33m)\u001b[0m\u001b[1;33m*\u001b[0m\u001b[0mint\u001b[0m\u001b[1;33m(\u001b[0m\u001b[0mb\u001b[0m\u001b[1;33m)\u001b[0m\u001b[1;33m)\u001b[0m\u001b[1;33m\u001b[0m\u001b[1;33m\u001b[0m\u001b[0m\n",
      "\u001b[1;31mTypeError\u001b[0m: int() argument must be a string, a bytes-like object or a number, not 'NoneType'"
     ]
    }
   ],
   "source": [
    "x,y=int(input()),int(input())\n",
    "def add(a,b):\n",
    "    print(int(a)+b)\n",
    "def sub(a,b):\n",
    "    print(int(a)-int(b))\n",
    "def mul(a,b):\n",
    "    print(int(a)*int(b))\n",
    "def div(a,b):\n",
    "    print(int(a)//int(b))\n",
    "div(mul(sub(add(a,b),b),b),b)"
   ]
  },
  {
   "cell_type": "code",
   "execution_count": 6,
   "metadata": {},
   "outputs": [
    {
     "name": "stdout",
     "output_type": "stream",
     "text": [
      "40\n",
      "10\n",
      "50\n",
      "40\n",
      "400\n",
      "40\n"
     ]
    }
   ],
   "source": [
    "x,y=int(input()),int(input())\n",
    "def add(a,b):\n",
    "    c=a+b\n",
    "    print(c)\n",
    "    return c\n",
    "def sub(a,b):\n",
    "    c=a-b\n",
    "    print(c)\n",
    "    return c\n",
    "def mul(a,b):\n",
    "    c=a*b\n",
    "    print(c)\n",
    "    return c\n",
    "def div(a,b):\n",
    "    c=a//b\n",
    "    print(c)\n",
    "div(mul(sub(add(x,y),y),y),y)"
   ]
  },
  {
   "cell_type": "code",
   "execution_count": 21,
   "metadata": {},
   "outputs": [
    {
     "name": "stdout",
     "output_type": "stream",
     "text": [
      "choose a category:\n",
      "1.arithmetic\n",
      "2.logical\n",
      "3.comparission\n",
      "3\n",
      "choose an operation:\n",
      "1.greater thean\n",
      "2.less than\n",
      "3.equal to\n",
      "4.not equal to\n",
      "1\n",
      "enter first number:5\n",
      "enter second number:2\n",
      "True\n"
     ]
    }
   ],
   "source": [
    "def category():\n",
    "    print(\"choose a category:\")\n",
    "    print(\"1.arithmetic\")\n",
    "    print(\"2.logical\")\n",
    "    print(\"3.comparission\")\n",
    "category()\n",
    "def arithmetic():\n",
    "    print(\"choose an operation:\")\n",
    "    print(\"1.addition\")\n",
    "    print(\"2.subtraction\")\n",
    "    print(\"3.multiplication\")\n",
    "    print(\"4.division\")\n",
    "def logical():\n",
    "    print(\"choose an operation:\")\n",
    "    print(\"1.and\")\n",
    "    print(\"2.or\")\n",
    "    print(\"3.not\")\n",
    "def comparission():\n",
    "    print(\"choose an operation:\")\n",
    "    print(\"1.greater thean\")\n",
    "    print(\"2.less than\")\n",
    "    print(\"3.equal to\")\n",
    "    print(\"4.not equal to\")\n",
    "def getinput():\n",
    "    y=int(input())\n",
    "    d,e=int(input(\"enter first number:\")),int(input(\"enter second number:\"))\n",
    "def add(a,b):\n",
    "    c=a+b\n",
    "    print(c)\n",
    "def sub(a,b):\n",
    "    c=a-b\n",
    "    print(c)\n",
    "def mul(a,b):\n",
    "    c=a*b\n",
    "    print(c)\n",
    "def div(a,b):\n",
    "    c=a//b\n",
    "    print(c)\n",
    "def andl(a,b):\n",
    "    c=a and b\n",
    "    print(c)\n",
    "def orl(a,b):\n",
    "    c=a or b\n",
    "    print(c)\n",
    "def notl(a,b):\n",
    "    c=not a\n",
    "    print(c)\n",
    "    c=not b\n",
    "    print(c)\n",
    "def greater(a,b):\n",
    "    c=a>b\n",
    "    print(c)\n",
    "def lesser(a,b):\n",
    "    c=a<b\n",
    "    print(c)\n",
    "def equal(a,b):\n",
    "    if a==b:\n",
    "        c=\"true\"\n",
    "    else:\n",
    "        c=false\n",
    "    print(c)\n",
    "def notequal(a,b):\n",
    "    if a!=b:\n",
    "        c=\"true\"\n",
    "    else:\n",
    "        c=\"false\"\n",
    "    print(c)\n",
    "x=int(input())\n",
    "if x==1:\n",
    "    arithmetic()\n",
    "    getinput()\n",
    "    if y==1:\n",
    "        add(d,e)\n",
    "    elif y==2:\n",
    "        sub(d,e)\n",
    "    elif y==3:\n",
    "        mul(d,e)\n",
    "    else:\n",
    "        div(d,e)\n",
    "elif x==2:\n",
    "    logical()\n",
    "    getinput()\n",
    "    if y==1:\n",
    "        andl(d,e)\n",
    "    elif y==2:\n",
    "        orl(d,e)\n",
    "    else:\n",
    "        notl(d,e)\n",
    "else:\n",
    "    comparission()\n",
    "    getinput()\n",
    "    if y==1:\n",
    "        greater(d,e)\n",
    "    elif y==2:\n",
    "        lesser(d,e)\n",
    "    elif y==3:\n",
    "        equal(d,e)\n",
    "    else:\n",
    "        notequal(d,e)\n",
    "        \n"
   ]
  },
  {
   "cell_type": "code",
   "execution_count": 5,
   "metadata": {},
   "outputs": [
    {
     "name": "stdout",
     "output_type": "stream",
     "text": [
      "hii\n"
     ]
    }
   ],
   "source": [
    "def hello():\n",
    "    print('hii')\n",
    "hello()"
   ]
  },
  {
   "cell_type": "code",
   "execution_count": 23,
   "metadata": {},
   "outputs": [
    {
     "name": "stdout",
     "output_type": "stream",
     "text": [
      "name is vamsi\n",
      "age is 21\n",
      "name is 21\n",
      "age is vamsi\n",
      "name is vamsi\n",
      "age is 21\n",
      "vamsi\n",
      "21\n",
      "name is vamsi\n",
      "age is 21\n"
     ]
    }
   ],
   "source": [
    "#positional parameters\n",
    "def login(name,age):\n",
    "    print(\"name is\",name)\n",
    "    print(\"age is\",age)\n",
    "login(\"vamsi\",21)\n",
    "login(21,\"vamsi\")\n",
    "login(age=21,name=\"vamsi\")\n",
    "login(input(),input())"
   ]
  },
  {
   "cell_type": "code",
   "execution_count": 16,
   "metadata": {},
   "outputs": [
    {
     "name": "stdout",
     "output_type": "stream",
     "text": [
      "2\n",
      "1\n",
      "2\n",
      "3\n",
      "4\n",
      "2\n"
     ]
    }
   ],
   "source": [
    "def avg(a,b,c,d):\n",
    "    print((a+b+c+d)//4)\n",
    "avg(1,2,3,4)\n",
    "avg(int(input()),int(input()),int(input()),int(input()))"
   ]
  },
  {
   "cell_type": "code",
   "execution_count": 22,
   "metadata": {},
   "outputs": [
    {
     "name": "stdout",
     "output_type": "stream",
     "text": [
      "pythonp\n",
      "p\n",
      "0 6 "
     ]
    }
   ],
   "source": [
    "def index(x,y):\n",
    "    for i in range(len(x)):\n",
    "        if x[i]==y:\n",
    "            print(i,end=\" \")\n",
    "index(input(),input())"
   ]
  },
  {
   "cell_type": "code",
   "execution_count": 25,
   "metadata": {},
   "outputs": [
    {
     "name": "stdout",
     "output_type": "stream",
     "text": [
      "sai - pd\n",
      "vamsi - student\n",
      "vamsi - student\n"
     ]
    }
   ],
   "source": [
    "def login(name=\"vamsi\",role=\"student\"):#default parameters\n",
    "    print(name,\"-\",role)\n",
    "login(\"sai\",\"pd\")\n",
    "login(\"vamsi\")\n",
    "login()"
   ]
  },
  {
   "cell_type": "code",
   "execution_count": 36,
   "metadata": {},
   "outputs": [
    {
     "name": "stdout",
     "output_type": "stream",
     "text": [
      "flavour: vanilla\n",
      "weight: 3\n",
      "shape: round\n",
      "----------------\n",
      "flavour: strawberry\n",
      "weight: 5\n",
      "shape: oval\n",
      "----------------\n",
      "flavour: vanilla\n",
      "weight: 5\n",
      "shape: circle\n",
      "----------------\n"
     ]
    }
   ],
   "source": [
    "def makecake(flavour=\"vanilla\",weight=\"3\",shape=\"round\"):#default parameters\n",
    "    print(\"flavour:\",flavour)\n",
    "    print(\"weight:\",weight)\n",
    "    print(\"shape:\",shape)\n",
    "    print(\"----------------\")\n",
    "makecake()\n",
    "makecake(\"strawberry\",5,\"oval\")\n",
    "makecake(weight=5,shape=\"circle\")"
   ]
  },
  {
   "cell_type": "code",
   "execution_count": 41,
   "metadata": {},
   "outputs": [
    {
     "name": "stdout",
     "output_type": "stream",
     "text": [
      "20\n"
     ]
    }
   ],
   "source": [
    "def avg(*args):\n",
    "    print((sum(args)//len(args)))\n",
    "avg(10,20,30)"
   ]
  },
  {
   "cell_type": "code",
   "execution_count": 44,
   "metadata": {},
   "outputs": [
    {
     "name": "stdout",
     "output_type": "stream",
     "text": [
      "flavour: vanilla\n",
      "weight: 3\n",
      "shape: round\n",
      "{}\n",
      "----------------\n"
     ]
    }
   ],
   "source": [
    "def makecake(flavour=\"vanilla\",weight=\"3\",shape=\"round\",**kwargs):\n",
    "    print(\"flavour:\",flavour)\n",
    "    print(\"weight:\",weight)\n",
    "    print(\"shape:\",shape)\n",
    "    print(kwargs)\n",
    "    print(\"----------------\")\n",
    "makecake(toping: 'strawberry', 'icing': 'sugar)"
   ]
  },
  {
   "cell_type": "code",
   "execution_count": 22,
   "metadata": {},
   "outputs": [
    {
     "name": "stdout",
     "output_type": "stream",
     "text": [
      "hii\n",
      "hello\n",
      "10\n"
     ]
    }
   ],
   "source": [
    "def first():\n",
    "    print(\"hello\")\n",
    "    return 10\n",
    "def second():\n",
    "    print(\"hii\")\n",
    "    return first()\n",
    "#print((first()))\n",
    "print(second())"
   ]
  },
  {
   "cell_type": "code",
   "execution_count": 36,
   "metadata": {},
   "outputs": [
    {
     "name": "stdout",
     "output_type": "stream",
     "text": [
      "30\n"
     ]
    }
   ],
   "source": [
    "c=lambda a,b:a+b\n",
    "print(c(10,20))"
   ]
  },
  {
   "cell_type": "code",
   "execution_count": 30,
   "metadata": {},
   "outputs": [
    {
     "data": {
      "text/plain": [
       "'vamsi@lync.com'"
      ]
     },
     "execution_count": 30,
     "metadata": {},
     "output_type": "execute_result"
    }
   ],
   "source": [
    "makeemail=lambda a,b:a+\"@\"+b+\".com\"\n",
    "makeemail(\"vamsi\",\"lync\")"
   ]
  },
  {
   "cell_type": "code",
   "execution_count": 38,
   "metadata": {},
   "outputs": [
    {
     "name": "stdout",
     "output_type": "stream",
     "text": [
      "10\n",
      "[0, 1, 2, 3, 4, 5, 6, 7, 8, 9]\n"
     ]
    }
   ],
   "source": [
    "x=lambda y:[i for i in range(y)]\n",
    "print(x(int(input())))"
   ]
  },
  {
   "cell_type": "code",
   "execution_count": 42,
   "metadata": {},
   "outputs": [
    {
     "name": "stdout",
     "output_type": "stream",
     "text": [
      "[0, 5, 10, 15, 20, 25, 30, 35, 40, 45, 50, 55, 60, 65, 70, 75, 80, 85, 90, 95]\n"
     ]
    }
   ],
   "source": [
    "x=lambda y,z:[i for i in range(y) if i%z==0]\n",
    "print(x(100,5))"
   ]
  },
  {
   "cell_type": "code",
   "execution_count": 44,
   "metadata": {},
   "outputs": [
    {
     "name": "stdout",
     "output_type": "stream",
     "text": [
      "[0, 1, 4, 9, 16, 25, 36, 49, 64, 81]\n"
     ]
    }
   ],
   "source": [
    "x=[i for i in range(10)]\n",
    "def sq(y):\n",
    "    return y**2\n",
    "z=map(sq,x)\n",
    "print(list(z))"
   ]
  },
  {
   "cell_type": "code",
   "execution_count": 46,
   "metadata": {},
   "outputs": [
    {
     "name": "stdout",
     "output_type": "stream",
     "text": [
      "[0, 2, 4, 6, 8, 10, 12, 14, 16, 18, 20, 22, 24, 26, 28, 30, 32, 34, 36, 38, 40, 42, 44, 46, 48, 50, 52, 54, 56, 58, 60, 62, 64, 66, 68, 70, 72, 74, 76, 78, 80, 82, 84, 86, 88, 90, 92, 94, 96, 98, 100, 102, 104, 106, 108, 110, 112, 114, 116, 118, 120, 122, 124, 126, 128, 130, 132, 134, 136, 138, 140, 142, 144, 146, 148, 150, 152, 154, 156, 158, 160, 162, 164, 166, 168, 170, 172, 174, 176, 178, 180, 182, 184, 186, 188, 190, 192, 194, 196, 198]\n"
     ]
    }
   ],
   "source": [
    "x=[i for i in range(100)]\n",
    "y=[i for i in range(100)]\n",
    "c=map((lambda x,y:x+y),x,y)\n",
    "print(list(c))"
   ]
  },
  {
   "cell_type": "code",
   "execution_count": 48,
   "metadata": {},
   "outputs": [
    {
     "name": "stdout",
     "output_type": "stream",
     "text": [
      "45\n"
     ]
    }
   ],
   "source": [
    "from functools import reduce\n",
    "x=[i for i in range(10)]\n",
    "y=reduce(lambda a,b:a+b,x)\n",
    "print(y)"
   ]
  },
  {
   "cell_type": "code",
   "execution_count": 3,
   "metadata": {},
   "outputs": [
    {
     "name": "stdout",
     "output_type": "stream",
     "text": [
      "vamsi - 1494dkqg8220xqhn\n",
      "nitin - 4569yqwo4542wzzh\n",
      "user already exists:\n"
     ]
    }
   ],
   "source": [
    "import random\n",
    "x={}\n",
    "z=\"\"\n",
    "def getpswd(y):\n",
    "    global z\n",
    "    global x\n",
    "    if len(x)==0:\n",
    "        genpswd()\n",
    "        x[y]=z\n",
    "        print(y,\"-\",x[y])\n",
    "    else:\n",
    "        for i in list(x.keys()):\n",
    "            if i==y:\n",
    "                print(\"user already exists:\")\n",
    "                break\n",
    "            else:\n",
    "                z=\"\"\n",
    "                genpswd()\n",
    "                x[y]=z\n",
    "                print(y,\"-\",x[y])\n",
    "def geninteger():\n",
    "    global z\n",
    "    for i in range(4):\n",
    "            z=z+str(random.randint(0,9))\n",
    "def genstring():\n",
    "    global z\n",
    "    for i in range(4):\n",
    "            z=z+chr(random.randint(ord(\"a\"),ord(\"z\")))\n",
    "def genpswd():\n",
    "    geninteger()\n",
    "    genstring()\n",
    "    geninteger()\n",
    "    genstring()\n",
    "getpswd(\"vamsi\")\n",
    "getpswd(\"nitin\")\n",
    "getpswd(\"vamsi\")"
   ]
  },
  {
   "cell_type": "code",
   "execution_count": 2,
   "metadata": {},
   "outputs": [
    {
     "name": "stdout",
     "output_type": "stream",
     "text": [
      "chicken: 23\n",
      "rabbit: 12\n"
     ]
    }
   ],
   "source": [
    "def solve(x,y):\n",
    "    for i in range(x+1):\n",
    "        j=x-i\n",
    "        if (2*i)+(4*j)==y:\n",
    "            print(\"chicken:\",i)\n",
    "            print(\"rabbit:\",j)\n",
    "solve(35,94)"
   ]
  },
  {
   "cell_type": "code",
   "execution_count": 6,
   "metadata": {},
   "outputs": [
    {
     "name": "stdout",
     "output_type": "stream",
     "text": [
      "362880\n"
     ]
    }
   ],
   "source": [
    "from functools import reduce\n",
    "x=[i for i in range(1,10)]\n",
    "y=reduce(lambda y,z:y*z,x)\n",
    "print(y)"
   ]
  },
  {
   "cell_type": "code",
   "execution_count": 33,
   "metadata": {},
   "outputs": [
    {
     "name": "stdout",
     "output_type": "stream",
     "text": [
      "enter a string to reverse:vamsi\n",
      "ismav\n"
     ]
    }
   ],
   "source": [
    "x=lambda y:y[::-1]\n",
    "print(x(input(\"enter a string to reverse:\")))"
   ]
  },
  {
   "cell_type": "code",
   "execution_count": 34,
   "metadata": {},
   "outputs": [
    {
     "name": "stdout",
     "output_type": "stream",
     "text": [
      "[0, 2, 4, 6, 8]\n"
     ]
    }
   ],
   "source": [
    "number=lambda a:[i for i in range(a) if i%2==0]\n",
    "print(number(10))"
   ]
  },
  {
   "cell_type": "code",
   "execution_count": 40,
   "metadata": {},
   "outputs": [
    {
     "data": {
      "text/plain": [
       "6"
      ]
     },
     "execution_count": 40,
     "metadata": {},
     "output_type": "execute_result"
    }
   ],
   "source": [
    "def factorial(x):\n",
    "    y=1\n",
    "    for i in range(1,x+1):\n",
    "        y=y*i\n",
    "    return y\n",
    "factorial(3)"
   ]
  },
  {
   "cell_type": "code",
   "execution_count": 47,
   "metadata": {},
   "outputs": [
    {
     "name": "stdout",
     "output_type": "stream",
     "text": [
      "{1: 1, 2: 4, 3: 9, 4: 16, 5: 25, 6: 36, 7: 49, 8: 64, 9: 81, 10: 100, 11: 121, 12: 144, 13: 169, 14: 196, 15: 225, 16: 256, 17: 289, 18: 324, 19: 361, 20: 400}\n"
     ]
    }
   ],
   "source": [
    "x= lambda y:{i:i**2 for i in range(1,y+1)}\n",
    "print(x(20))"
   ]
  },
  {
   "cell_type": "code",
   "execution_count": 50,
   "metadata": {},
   "outputs": [
    {
     "data": {
      "text/plain": [
       "[12, 24, 35, 88, 120, 155]"
      ]
     },
     "execution_count": 50,
     "metadata": {},
     "output_type": "execute_result"
    }
   ],
   "source": [
    "x=[12,24,35,24,88,120,155,88,120,155]\n",
    "def removeduplicate():\n",
    "    y=[]\n",
    "    global x\n",
    "    for i in x:\n",
    "        if i in y:\n",
    "            continue\n",
    "        else:\n",
    "            y.append(i)\n",
    "    return(y)\n",
    "removeduplicate()"
   ]
  },
  {
   "cell_type": "code",
   "execution_count": 23,
   "metadata": {},
   "outputs": [
    {
     "data": {
      "text/plain": [
       "50"
      ]
     },
     "execution_count": 23,
     "metadata": {},
     "output_type": "execute_result"
    }
   ],
   "source": [
    "import mymodule\n",
    "mymodule.subtract(100,10)\n",
    "mymodule.multiply(10,5)"
   ]
  },
  {
   "cell_type": "code",
   "execution_count": 7,
   "metadata": {
    "scrolled": false
   },
   "outputs": [
    {
     "name": "stdout",
     "output_type": "stream",
     "text": [
      "('ismav', '-', '4089zbgq4285htka')\n",
      "user already exist!\n",
      "user already exist!\n",
      "('nitin', '-', '9291gwrh0240nefs')\n",
      "user already exist!\n",
      "('vamsi', '-', '0467nuvd9287ruwe')\n",
      "user already exist!\n",
      "user already exist!\n",
      "user already exist!\n"
     ]
    }
   ],
   "source": [
    "import random\n",
    "x={}\n",
    "a=16\n",
    "b=4\n",
    "c=\"\"\n",
    "z=\"\"\n",
    "def checkuser(y):\n",
    "    global x,z\n",
    "    if len(x)==0:\n",
    "        z=1\n",
    "        print(getpswd(y))\n",
    "    if y in list(x.keys()):\n",
    "        z=0\n",
    "        print(getpswd(y))\n",
    "    else:\n",
    "        z=1\n",
    "        print(getpswd(y))\n",
    "def geninteger(b):\n",
    "    global c\n",
    "    for i in range(b):\n",
    "        c=c+str(random.randint(0,9))\n",
    "def genchar(b):\n",
    "    global c\n",
    "    for i in range(b):\n",
    "        c=c+chr(random.randint(ord(\"a\"),ord(\"z\")))\n",
    "def genpswd(a,b):\n",
    "    global c\n",
    "    for i in range((a//b)//2):\n",
    "        geninteger(b)\n",
    "        genchar(b)\n",
    "def getpswd(y):\n",
    "    global z,a,b,c,x\n",
    "    if z==1:\n",
    "        c=\"\"\n",
    "        genpswd(a,b)\n",
    "        storepswd(y,c)\n",
    "        x[y]=c\n",
    "        return y,\"-\",c\n",
    "    if z==0:\n",
    "        return \"user already exist!\"\n",
    "def storepswd(y,c):\n",
    "    f=open(\"pswd.txt\",\"a\")\n",
    "    f.write(y+\"-\"+c+\"\\n\")\n",
    "    f.close()\n",
    "checkuser(\"ismav\")\n",
    "checkuser(\"ismav\")\n",
    "checkuser(\"nitin\")\n",
    "checkuser(\"nitin\")\n",
    "checkuser(\"vamsi\")\n",
    "checkuser(\"vamsi\")\n",
    "checkuser(\"vamsi\")\n",
    "checkuser(\"vamsi\")"
   ]
  },
  {
   "cell_type": "code",
   "execution_count": 21,
   "metadata": {
    "scrolled": true
   },
   "outputs": [
    {
     "name": "stdout",
     "output_type": "stream",
     "text": [
      "enter path:C:\\Users\\vamsi\\Desktop\\New folder\n"
     ]
    }
   ],
   "source": [
    "import os\n",
    "import shutil\n",
    "from os import path\n",
    "a=input(\"enter path:\")\n",
    "x=[]\n",
    "for i,j,k in os.walk(a):\n",
    "    x.append(k)\n",
    "y=[i.split(\".\")[-1] for i in x[0]]\n",
    "z=set(y)\n",
    "os.chdir(a)\n",
    "for i in z:\n",
    "    os.mkdir(i)\n",
    "for i in range(len(x[0])):\n",
    "    src=path.realpath(x[0][i])\n",
    "    dst=path.realpath(y[i])\n",
    "    shutil.move(src,dst)"
   ]
  },
  {
   "cell_type": "code",
   "execution_count": 5,
   "metadata": {},
   "outputs": [
    {
     "name": "stdout",
     "output_type": "stream",
     "text": [
      "enter path:C:\\Users\\vamsi\\Desktop\\New folder\n"
     ]
    }
   ],
   "source": [
    "import os\n",
    "import shutil\n",
    "from os import path\n",
    "a=\"\"\n",
    "x=[]\n",
    "y=\"\"\n",
    "z=set(())\n",
    "def takeinput():\n",
    "    global a\n",
    "    a=input(\"enter path:\")\n",
    "    filesinlist(a)\n",
    "    getfileextension()\n",
    "    numberofextensions()\n",
    "    changedirectory()\n",
    "    makedirectories()\n",
    "    movefiles()\n",
    "def filesinlist(a):\n",
    "    global x\n",
    "    for i,j,k in os.walk(a):\n",
    "        x.append(k)\n",
    "def getfileextension():\n",
    "    global x,y\n",
    "    y=[i.split(\".\")[-1] for i in x[0]]\n",
    "def numberofextensions():\n",
    "    global y,z\n",
    "    z=set(y)\n",
    "def changedirectory():\n",
    "    global a\n",
    "    os.chdir(a)\n",
    "def makedirectories():\n",
    "    global z\n",
    "    for i in z:\n",
    "        os.mkdir(i)\n",
    "def movefiles():\n",
    "    global x,y\n",
    "    for i in range(len(x[0])):\n",
    "        src=path.realpath(x[0][i])\n",
    "        dst=path.realpath(y[i])\n",
    "        shutil.move(src,dst)\n",
    "takeinput()"
   ]
  },
  {
   "cell_type": "code",
   "execution_count": 12,
   "metadata": {},
   "outputs": [
    {
     "name": "stdout",
     "output_type": "stream",
     "text": [
      "[]\n"
     ]
    }
   ],
   "source": [
    "f=open(\"pswd.txt\",\"r\")\n",
    "x=f.readlines()\n",
    "for i in range(len(x)):\n",
    "    x[i]=x[i].split(\"-\")\n",
    "    x[i]=x[i][0]\n",
    "print(x)\n",
    "f.close()"
   ]
  },
  {
   "cell_type": "code",
   "execution_count": 45,
   "metadata": {
    "scrolled": false
   },
   "outputs": [
    {
     "name": "stdout",
     "output_type": "stream",
     "text": [
      "('ismav', '-', '0686ovit2917fuxc')\n",
      "('ismav', '-', '2896xmxt7999pkky')\n",
      "('nitin', '-', '0241hbgs8028jing')\n",
      "user already exist!\n",
      "('vamsi', '-', '9407rlsb0464lfbr')\n",
      "user already exist!\n",
      "user already exist!\n",
      "user already exist!\n"
     ]
    }
   ],
   "source": [
    "import random\n",
    "x=\"\"\n",
    "a=16\n",
    "b=4\n",
    "c=\"\"\n",
    "z=\"\"\n",
    "def checkuser(y):\n",
    "    global x,z\n",
    "    checkfile()\n",
    "    if y in x:\n",
    "        z=0\n",
    "        print(getpswd(y))\n",
    "    else:\n",
    "        z=1\n",
    "        print(getpswd(y))\n",
    "def checkfile():\n",
    "    global x\n",
    "    f=open(\"pswd.txt\",\"r\")\n",
    "    x=f.readlines()\n",
    "    for i in range(len(x)):\n",
    "        x[i]=x[i].split(\"-\")\n",
    "        x[i]=x[i][0]\n",
    "    f.close()\n",
    "def geninteger(b):\n",
    "    global c\n",
    "    for i in range(b):\n",
    "        c=c+str(random.randint(0,9))\n",
    "def genchar(b):\n",
    "    global c\n",
    "    for i in range(b):\n",
    "        c=c+chr(random.randint(ord(\"a\"),ord(\"z\")))\n",
    "def genpswd(a,b):\n",
    "    global c\n",
    "    for i in range((a//b)//2):\n",
    "        geninteger(b)\n",
    "        genchar(b)\n",
    "def getpswd(y):\n",
    "    global z,a,b,c,x\n",
    "    if z==1:\n",
    "        c=\"\"\n",
    "        genpswd(a,b)\n",
    "        storepswd(y,c)\n",
    "        return y,\"-\",c\n",
    "    if z==0:\n",
    "        return \"user already exist!\"\n",
    "def storepswd(y,c):\n",
    "    f=open(\"pswd.txt\",\"a\")\n",
    "    f.write(y+\"-\"+c+\"\\n\")\n",
    "    f.close()\n",
    "checkuser(\"ismav\")\n",
    "checkuser(\"ismav\")\n",
    "checkuser(\"nitin\")\n",
    "checkuser(\"nitin\")\n",
    "checkuser(\"vamsi\")\n",
    "checkuser(\"vamsi\")\n",
    "checkuser(\"vamsi\")\n",
    "checkuser(\"vamsi\")\n"
   ]
  },
  {
   "cell_type": "code",
   "execution_count": 91,
   "metadata": {},
   "outputs": [
    {
     "name": "stdout",
     "output_type": "stream",
     "text": [
      "['Xyz']\n"
     ]
    }
   ],
   "source": [
    "f=open(\"pswd.txt\",\"r\")\n",
    "x=f.readlines()\n",
    "b=[]\n",
    "for i in range(len(x)):\n",
    "    x[i]=x[i].split(\" \")\n",
    "y=[len(i) for i in x]\n",
    "z=[x[i][j] for i in range(len(x)) for j in range(y[i])]\n",
    "for i in range(len(z)):\n",
    "    z[i]=z[i].strip(\"\\n\")\n",
    "    a=z[i]\n",
    "    c=0\n",
    "    for j in range(len(a)):\n",
    "        a[j].upper()\n",
    "        if ord(a[j].lower())>=ord(\"a\") and ord(a[j].lower())<=ord(\"z\"):\n",
    "            c+=1\n",
    "    if len(a)==c and z[i]!=\"\":\n",
    "        b.append(z[i])       #z[i].title----->to get capital letter for start of every word\n",
    "print(b)"
   ]
  },
  {
   "cell_type": "code",
   "execution_count": 15,
   "metadata": {
    "scrolled": true
   },
   "outputs": [
    {
     "name": "stdout",
     "output_type": "stream",
     "text": [
      "16\n"
     ]
    }
   ],
   "source": [
    "f=open(\"pswd.txt\",\"r\")\n",
    "x=f.read()\n",
    "y=0\n",
    "for i in x:\n",
    "    if i==\" \":\n",
    "        y+=1\n",
    "print(y)"
   ]
  },
  {
   "cell_type": "code",
   "execution_count": 40,
   "metadata": {
    "scrolled": false
   },
   "outputs": [
    {
     "name": "stdout",
     "output_type": "stream",
     "text": [
      "['ismav nitin vamsi', 'ismav nitin vamsi', 'ismav nitin vamsi', 'ismav nitin vamsi', 'ismav nitin vamsi', 'ismav nitin vamsi', 'ismav nitin vamsi 123456', '', 'i23va VAMSI']\n"
     ]
    }
   ],
   "source": [
    "f=open(\"pswd.txt\",\"r\")\n",
    "x=f.readlines()\n",
    "y=[i.strip(\"\\n\") for i in x]\n",
    "print(y)"
   ]
  },
  {
   "cell_type": "code",
   "execution_count": 47,
   "metadata": {},
   "outputs": [],
   "source": [
    "import os\n",
    "x=open(\"new.txt\",\"r\")\n",
    "y=x.read()\n",
    "z=open(\"pswd.txt\",\"a\")\n",
    "z.write(y)\n",
    "z.close()\n",
    "x.close()"
   ]
  },
  {
   "cell_type": "code",
   "execution_count": 87,
   "metadata": {},
   "outputs": [
    {
     "name": "stdout",
     "output_type": "stream",
     "text": [
      "Abc Def Ghi\n"
     ]
    }
   ],
   "source": [
    "x=\"abc def ghi\"\n",
    "print(x.title())"
   ]
  },
  {
   "cell_type": "code",
   "execution_count": 1,
   "metadata": {},
   "outputs": [
    {
     "name": "stdout",
     "output_type": "stream",
     "text": [
      "False\n"
     ]
    }
   ],
   "source": [
    "print(max(min(True,-1,2),-1,False))"
   ]
  },
  {
   "cell_type": "code",
   "execution_count": 6,
   "metadata": {},
   "outputs": [
    {
     "name": "stdout",
     "output_type": "stream",
     "text": [
      "True\n"
     ]
    }
   ],
   "source": [
    "print(any([3<2,4>2,3<4]))"
   ]
  },
  {
   "cell_type": "code",
   "execution_count": 11,
   "metadata": {},
   "outputs": [
    {
     "name": "stdout",
     "output_type": "stream",
     "text": [
      "1\n"
     ]
    }
   ],
   "source": [
    "a=3\n",
    "print(eval(\"a^2\")) "
   ]
  },
  {
   "cell_type": "code",
   "execution_count": 14,
   "metadata": {},
   "outputs": [
    {
     "name": "stdout",
     "output_type": "stream",
     "text": [
      "2\n"
     ]
    }
   ],
   "source": [
    "x=[12 , 34]\n",
    "print(len(list(map(int,x))))"
   ]
  },
  {
   "cell_type": "code",
   "execution_count": 19,
   "metadata": {},
   "outputs": [
    {
     "data": {
      "text/plain": [
       "(5, 5)"
      ]
     },
     "execution_count": 19,
     "metadata": {},
     "output_type": "execute_result"
    }
   ],
   "source": [
    "def upperandlower(x):\n",
    "    y,z=0,0\n",
    "    for i in x:\n",
    "        if ord(i)>=ord(\"a\") and ord(i)<=ord(\"z\"):\n",
    "            y+=1\n",
    "        if ord(i)>=ord(\"A\") and ord(i)<=ord(\"Z\"):\n",
    "            z+=1\n",
    "    return y,z\n",
    "upperandlower(input(\"enter a string:\"))       "
   ]
  },
  {
   "cell_type": "code",
   "execution_count": 20,
   "metadata": {},
   "outputs": [
    {
     "name": "stdout",
     "output_type": "stream",
     "text": [
      "enter a string:nitin\n"
     ]
    },
    {
     "data": {
      "text/plain": [
       "'palindrome'"
      ]
     },
     "execution_count": 20,
     "metadata": {},
     "output_type": "execute_result"
    }
   ],
   "source": [
    "def palindrome(x):\n",
    "    if x==x[::-1]:\n",
    "        return \"palindrome\"\n",
    "    else:\n",
    "        return \"not a palindrome\"\n",
    "palindrome(input(\"enter a string:\"))"
   ]
  },
  {
   "cell_type": "code",
   "execution_count": 22,
   "metadata": {},
   "outputs": [
    {
     "data": {
      "text/plain": [
       "(6, 6)"
      ]
     },
     "execution_count": 22,
     "metadata": {},
     "output_type": "execute_result"
    }
   ],
   "source": [
    "def additionandmultiplication(*argv):\n",
    "    x=0\n",
    "    y=1\n",
    "    for i in argv:\n",
    "        x+=i\n",
    "    for i in argv:\n",
    "        y*=i\n",
    "    return x,y\n",
    "additionandmultiplication(1,2,3)"
   ]
  },
  {
   "cell_type": "code",
   "execution_count": 46,
   "metadata": {},
   "outputs": [
    {
     "data": {
      "text/plain": [
       "3"
      ]
     },
     "execution_count": 46,
     "metadata": {},
     "output_type": "execute_result"
    }
   ],
   "source": [
    "def fibonacci(y):\n",
    "    if y<=1:\n",
    "        return y\n",
    "    else:\n",
    "        return(fibonacci(y-1) + fibonacci(y-2))\n",
    "fibonacci(4)"
   ]
  },
  {
   "cell_type": "code",
   "execution_count": 48,
   "metadata": {},
   "outputs": [
    {
     "data": {
      "text/plain": [
       "18"
      ]
     },
     "execution_count": 48,
     "metadata": {},
     "output_type": "execute_result"
    }
   ],
   "source": [
    "def sumofdivisors(x):\n",
    "    y=[i for i in range(1,x+1) if x%i==0]\n",
    "    return sum(y)\n",
    "sumofdivisors(10)\n",
    "    "
   ]
  },
  {
   "cell_type": "code",
   "execution_count": 52,
   "metadata": {},
   "outputs": [
    {
     "data": {
      "text/plain": [
       "'amstrong'"
      ]
     },
     "execution_count": 52,
     "metadata": {},
     "output_type": "execute_result"
    }
   ],
   "source": [
    "def amstrongnumber(x):\n",
    "    y=0\n",
    "    for i in x:\n",
    "        y=y+int(i)**3\n",
    "    if x==str(y):\n",
    "        return \"amstrong\"\n",
    "    else:\n",
    "        return \"not an amstrong\"\n",
    "amstrongnumber(\"371\")"
   ]
  },
  {
   "cell_type": "code",
   "execution_count": 19,
   "metadata": {},
   "outputs": [],
   "source": [
    "a,b,x,y,z=\"\",\"\",\"\",\"\",\"\"\n",
    "def openfile():\n",
    "    global x,y,z\n",
    "    x=open(\"one.txt\",\"r\")\n",
    "    y=open(\"two.txt\",\"r\")\n",
    "    z=open(\"three.txt\",\"w\")\n",
    "def readfile():\n",
    "    global x,y,a,b\n",
    "    a=x.read()\n",
    "    b=y.read()\n",
    "def writefile():\n",
    "    global c,d,e,z\n",
    "    z.write(a+\"+\"+b+\"==\"+str(int(a)+int(b))+\"\\n\")\n",
    "    z.write(a+\"-\"+b+\"==\"+str(int(a)-int(b))+\"\\n\")\n",
    "    z.write(a+\"*\"+b+\"==\"+str(int(a)*int(b)))\n",
    "def closefile():\n",
    "    global x,y,z\n",
    "    x.close()\n",
    "    y.close()\n",
    "    z.close()\n",
    "def runprogram():\n",
    "    openfile()\n",
    "    readfile()\n",
    "    writefile()\n",
    "    closefile()\n",
    "runprogram()"
   ]
  },
  {
   "cell_type": "code",
   "execution_count": null,
   "metadata": {},
   "outputs": [],
   "source": []
  }
 ],
 "metadata": {
  "kernelspec": {
   "display_name": "Python 3",
   "language": "python",
   "name": "python3"
  },
  "language_info": {
   "codemirror_mode": {
    "name": "ipython",
    "version": 3
   },
   "file_extension": ".py",
   "mimetype": "text/x-python",
   "name": "python",
   "nbconvert_exporter": "python",
   "pygments_lexer": "ipython3",
   "version": "3.7.3"
  }
 },
 "nbformat": 4,
 "nbformat_minor": 2
}
